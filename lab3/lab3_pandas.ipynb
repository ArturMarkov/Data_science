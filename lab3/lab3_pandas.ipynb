{
 "cells": [
  {
   "cell_type": "code",
   "execution_count": 1,
   "metadata": {},
   "outputs": [],
   "source": [
    "import os\n",
    "#import request\n",
    "\n",
    "import pandas as pd"
   ]
  },
  {
   "cell_type": "markdown",
   "metadata": {},
   "source": [
    "# Pandas Impemintation"
   ]
  },
  {
   "cell_type": "code",
   "execution_count": 25,
   "metadata": {},
   "outputs": [
    {
     "output_type": "stream",
     "name": "stdout",
     "text": "data 2075259\nclean_data 2049280\nWall time: 8.17 s\n"
    }
   ],
   "source": [
    "%%time\n",
    "data = pd.read_csv('data\\household_power_consumption.txt', sep=\";\", header=0)\n",
    "print(f\"data {len(data)}\")\n",
    "clean_data = data.dropna()\n",
    "clean_list = ['Global_reactive_power',\"Voltage\",\"Global_active_power\",\"Global_reactive_power\",\"Voltage\",\"Global_intensity\",\"Sub_metering_1\",\"Sub_metering_2\",\"Sub_metering_3\"]\n",
    "clean_data[clean_list] = clean_data[clean_list].astype(\"float32\")\n",
    "print(f\"clean_data {len(clean_data)}\")"
   ]
  },
  {
   "cell_type": "markdown",
   "metadata": {},
   "source": [
    "[Data sourse](https://archive.ics.uci.edu/ml/datasets/individual+household+electric+power+consumption)\n",
    "\n",
    "\n",
    "|               |               |\n",
    "| ------------- | ------------- |\n",
    "| **date**          | Date in format dd/mm/yyyy|\n",
    "| **time**          | time in format hh:mm:ss|\n",
    "|**global_active_power**| household global minute-averaged active power (in kilowatt)|\n",
    "|**global_reactive_power**|household global minute-averaged reactive power (in kilowatt)|\n",
    "|**voltage**|minute-averaged voltage (in volt) |\n",
    "|**global_intensity**| household global minute-averaged current intensity (in ampere)|\n",
    "|**sub_metering_1**|energy sub-metering No. 1 (in watt-hour of active energy). It corresponds to the kitchen, containing mainly a dishwasher, an oven and a microwave (hot plates are not electric but gas powered)|\n",
    "|**sub_metering_2**| energy sub-metering No. 2 (in watt-hour of active energy). It corresponds to the laundry room, containing a washing-machine, a tumble-drier, a refrigerator and a light.|\n",
    "|**sub_metering_3**|energy sub-metering No. 3 (in watt-hour of active energy). It corresponds to an electric water-heater and an air-conditioner.|"
   ]
  },
  {
   "cell_type": "markdown",
   "metadata": {},
   "source": [
    "## Task 1\n",
    "\n",
    "Select all rows where Global_active_power > 5 kW"
   ]
  },
  {
   "cell_type": "code",
   "execution_count": 59,
   "metadata": {},
   "outputs": [
    {
     "output_type": "stream",
     "name": "stdout",
     "text": "6.01 ms ± 172 µs per loop (mean ± std. dev. of 7 runs, 100 loops each)\n"
    }
   ],
   "source": [
    "%%timeit\n",
    "\n",
    "clean_data[clean_data.Global_active_power>5]"
   ]
  },
  {
   "cell_type": "markdown",
   "metadata": {},
   "source": [
    "## Task 2\n",
    "\n",
    "Select all rows where Voltage > 235 V"
   ]
  },
  {
   "cell_type": "code",
   "execution_count": 60,
   "metadata": {},
   "outputs": [
    {
     "output_type": "stream",
     "name": "stdout",
     "text": "209 ms ± 18.9 ms per loop (mean ± std. dev. of 7 runs, 1 loop each)\n"
    }
   ],
   "source": [
    " %%timeit\n",
    " clean_data[clean_data.Voltage>235]\n",
    " "
   ]
  },
  {
   "cell_type": "markdown",
   "metadata": {},
   "source": [
    "## Task 3\n",
    "Select all where Sub_metering_2 > Sub_metering_3 in range [19,20] of Global_intensity\n",
    "\n",
    "*Обрати всі домогосподарства, у яких сила струму лежить в межах 19-20 А, для них виявити ті, у яких пральна машина та холодильних споживають більше, ніж бойлер та кондиціонер. *"
   ]
  },
  {
   "cell_type": "code",
   "execution_count": 30,
   "metadata": {},
   "outputs": [
    {
     "output_type": "stream",
     "name": "stdout",
     "text": "14 ms ± 169 µs per loop (mean ± std. dev. of 7 runs, 100 loops each)\n"
    }
   ],
   "source": [
    "%%timeit\n",
    "pandas_n3=clean_data[(clean_data.Global_intensity>=19)&(clean_data.Global_intensity<=20)]\n",
    "pandas_n3[pandas_n3.Sub_metering_2>pandas_n3.Sub_metering_3]"
   ]
  },
  {
   "cell_type": "markdown",
   "metadata": {},
   "source": [
    "## Task 4\n",
    "\n",
    "\n",
    "Randomly select 500,000 households\n",
    "(without repetitions of sampling elements), for them to calculate the average values ​​of all 3 groups of electricity consumption\n",
    "\n",
    "*Обрати випадковим чином 500000 домогосподарств  \n",
    "(без повторів елементів вибірки),   для них обчислити середні величини усіх 3-х груп споживання електричної енергії*"
   ]
  },
  {
   "cell_type": "code",
   "execution_count": 61,
   "metadata": {},
   "outputs": [
    {
     "output_type": "stream",
     "name": "stdout",
     "text": "315 ms ± 24.3 ms per loop (mean ± std. dev. of 7 runs, 1 loop each)\n"
    }
   ],
   "source": [
    "%%timeit\n",
    "pandas_n4=clean_data.sample(n = 5*10**5, replace = False) \n",
    "pandas_n4.Sub_metering_1.mean()\n",
    "answer_dict={\n",
    "    \"Sub_metering_1\":pandas_n4.Sub_metering_1.mean(),\n",
    "    \"Sub_metering_2\":pandas_n4.Sub_metering_2.mean(),\n",
    "    \"Sub_metering_3\":pandas_n4.Sub_metering_3.mean()\n",
    "}\n",
    "answer_dict\n"
   ]
  },
  {
   "cell_type": "markdown",
   "metadata": {},
   "source": [
    "## Task 5 \n",
    "\n",
    "\n",
    "Select those lines that consume more than 6 in time> = 18-00\n",
    "kW per minute on average, among the selected identify those\n",
    "in which the main electricity consumption in the specified period of time falls on the washing machine, dryer, refrigerator and lighting\n",
    "(group 2 is the largest) and then select every third result from the first half and every fourth result from the second half.\n",
    " \n",
    "*Обрати ті рядки, які по часу >= 18-00 споживають понад 6  \n",
    "кВт за хвилину в середньому, серед відібраних визначити ті,  \n",
    "у яких основне споживання електроенергії у вказаний проміжок часу припадає на пральну машину, сушарку, холодильник та освітлення  \n",
    "(група 2 є найбільшою), а потім обрати кожен третій результат із першої половини та кожен четвертий результат із другої половини.* "
   ]
  },
  {
   "cell_type": "code",
   "execution_count": 43,
   "metadata": {},
   "outputs": [
    {
     "output_type": "execute_result",
     "data": {
      "text/plain": "               Date      Time  Global_active_power  Global_reactive_power  \\\n1696472    8/3/2010  19:56:00                2.068                  0.328   \n898873    31/8/2008  22:37:00                1.544                  0.152   \n645380     8/3/2008  21:44:00                2.130                  0.260   \n787932    15/6/2008  21:36:00                4.846                  0.298   \n1378401   30/7/2009  22:45:00                0.622                  0.080   \n...             ...       ...                  ...                    ...   \n24848      2/1/2007  23:32:00                0.530                  0.094   \n724477     2/5/2008  20:01:00                1.588                  0.238   \n34900      9/1/2007  23:04:00                2.772                  0.218   \n1071622  29/12/2008  21:46:00                0.278                  0.058   \n1392795    9/8/2009  22:39:00                2.626                  0.266   \n\n            Voltage  Global_intensity  Sub_metering_1  Sub_metering_2  \\\n1696472  242.070007               8.6             0.0             0.0   \n898873   241.619995               6.4             0.0             1.0   \n645380   239.539993               8.8             0.0             0.0   \n787932   236.550003              20.4             0.0            37.0   \n1378401  243.960007               2.8             0.0             0.0   \n...             ...               ...             ...             ...   \n24848    244.669998               2.2             0.0             0.0   \n724477   241.399994               6.6             0.0             1.0   \n34900    243.570007              11.4             0.0            38.0   \n1071622  243.130005               1.2             0.0             0.0   \n1392795  238.570007              11.0            38.0             0.0   \n\n         Sub_metering_3  \n1696472             1.0  \n898873             19.0  \n645380              0.0  \n787932             17.0  \n1378401             0.0  \n...                 ...  \n24848               0.0  \n724477             19.0  \n34900               0.0  \n1071622             0.0  \n1392795             0.0  \n\n[125384 rows x 9 columns]",
      "text/html": "<div>\n<style scoped>\n    .dataframe tbody tr th:only-of-type {\n        vertical-align: middle;\n    }\n\n    .dataframe tbody tr th {\n        vertical-align: top;\n    }\n\n    .dataframe thead th {\n        text-align: right;\n    }\n</style>\n<table border=\"1\" class=\"dataframe\">\n  <thead>\n    <tr style=\"text-align: right;\">\n      <th></th>\n      <th>Date</th>\n      <th>Time</th>\n      <th>Global_active_power</th>\n      <th>Global_reactive_power</th>\n      <th>Voltage</th>\n      <th>Global_intensity</th>\n      <th>Sub_metering_1</th>\n      <th>Sub_metering_2</th>\n      <th>Sub_metering_3</th>\n    </tr>\n  </thead>\n  <tbody>\n    <tr>\n      <th>1696472</th>\n      <td>8/3/2010</td>\n      <td>19:56:00</td>\n      <td>2.068</td>\n      <td>0.328</td>\n      <td>242.070007</td>\n      <td>8.6</td>\n      <td>0.0</td>\n      <td>0.0</td>\n      <td>1.0</td>\n    </tr>\n    <tr>\n      <th>898873</th>\n      <td>31/8/2008</td>\n      <td>22:37:00</td>\n      <td>1.544</td>\n      <td>0.152</td>\n      <td>241.619995</td>\n      <td>6.4</td>\n      <td>0.0</td>\n      <td>1.0</td>\n      <td>19.0</td>\n    </tr>\n    <tr>\n      <th>645380</th>\n      <td>8/3/2008</td>\n      <td>21:44:00</td>\n      <td>2.130</td>\n      <td>0.260</td>\n      <td>239.539993</td>\n      <td>8.8</td>\n      <td>0.0</td>\n      <td>0.0</td>\n      <td>0.0</td>\n    </tr>\n    <tr>\n      <th>787932</th>\n      <td>15/6/2008</td>\n      <td>21:36:00</td>\n      <td>4.846</td>\n      <td>0.298</td>\n      <td>236.550003</td>\n      <td>20.4</td>\n      <td>0.0</td>\n      <td>37.0</td>\n      <td>17.0</td>\n    </tr>\n    <tr>\n      <th>1378401</th>\n      <td>30/7/2009</td>\n      <td>22:45:00</td>\n      <td>0.622</td>\n      <td>0.080</td>\n      <td>243.960007</td>\n      <td>2.8</td>\n      <td>0.0</td>\n      <td>0.0</td>\n      <td>0.0</td>\n    </tr>\n    <tr>\n      <th>...</th>\n      <td>...</td>\n      <td>...</td>\n      <td>...</td>\n      <td>...</td>\n      <td>...</td>\n      <td>...</td>\n      <td>...</td>\n      <td>...</td>\n      <td>...</td>\n    </tr>\n    <tr>\n      <th>24848</th>\n      <td>2/1/2007</td>\n      <td>23:32:00</td>\n      <td>0.530</td>\n      <td>0.094</td>\n      <td>244.669998</td>\n      <td>2.2</td>\n      <td>0.0</td>\n      <td>0.0</td>\n      <td>0.0</td>\n    </tr>\n    <tr>\n      <th>724477</th>\n      <td>2/5/2008</td>\n      <td>20:01:00</td>\n      <td>1.588</td>\n      <td>0.238</td>\n      <td>241.399994</td>\n      <td>6.6</td>\n      <td>0.0</td>\n      <td>1.0</td>\n      <td>19.0</td>\n    </tr>\n    <tr>\n      <th>34900</th>\n      <td>9/1/2007</td>\n      <td>23:04:00</td>\n      <td>2.772</td>\n      <td>0.218</td>\n      <td>243.570007</td>\n      <td>11.4</td>\n      <td>0.0</td>\n      <td>38.0</td>\n      <td>0.0</td>\n    </tr>\n    <tr>\n      <th>1071622</th>\n      <td>29/12/2008</td>\n      <td>21:46:00</td>\n      <td>0.278</td>\n      <td>0.058</td>\n      <td>243.130005</td>\n      <td>1.2</td>\n      <td>0.0</td>\n      <td>0.0</td>\n      <td>0.0</td>\n    </tr>\n    <tr>\n      <th>1392795</th>\n      <td>9/8/2009</td>\n      <td>22:39:00</td>\n      <td>2.626</td>\n      <td>0.266</td>\n      <td>238.570007</td>\n      <td>11.0</td>\n      <td>38.0</td>\n      <td>0.0</td>\n      <td>0.0</td>\n    </tr>\n  </tbody>\n</table>\n<p>125384 rows × 9 columns</p>\n</div>"
     },
     "metadata": {},
     "execution_count": 43
    }
   ],
   "source": [
    "pandas_n4[pandas_n4.Time>=\"18:00:00\"]"
   ]
  },
  {
   "cell_type": "code",
   "execution_count": 62,
   "metadata": {},
   "outputs": [
    {
     "output_type": "stream",
     "name": "stdout",
     "text": "67.6 ms ± 6.72 ms per loop (mean ± std. dev. of 7 runs, 10 loops each)\n"
    }
   ],
   "source": [
    "%%timeit\n",
    "n5=pandas_n4[(pandas_n4.Time>=\"18:00:00\")&(pandas_n4.Global_active_power>6)]\n",
    "n5\n",
    "n5_5 =n5[(n5.Sub_metering_2>n5.Sub_metering_1)&(n5.Sub_metering_2>n5.Sub_metering_3)]\n",
    "n5_5"
   ]
  },
  {
   "cell_type": "code",
   "execution_count": null,
   "metadata": {},
   "outputs": [],
   "source": [
    "n5"
   ]
  },
  {
   "cell_type": "code",
   "execution_count": 47,
   "metadata": {},
   "outputs": [
    {
     "output_type": "stream",
     "name": "stdout",
     "text": "3.77 µs ± 101 ns per loop (mean ± std. dev. of 7 runs, 100000 loops each)\n"
    }
   ],
   "source": [
    "%%timeit\n",
    "n5_5.sort_index(inplace=True)\n",
    "n5_5"
   ]
  },
  {
   "cell_type": "code",
   "execution_count": 57,
   "metadata": {},
   "outputs": [
    {
     "output_type": "stream",
     "name": "stdout",
     "text": "Wall time: 0 ns\n"
    }
   ],
   "source": [
    "%%time\n",
    "def from_head_to_middle_step_3(df:pd.DataFrame):\n",
    "    return df.iloc[:int(len(df)/2)+1:3] \n",
    "\n",
    "def from_middle_to_tail_step_4(df:pd.DataFrame):\n",
    "    return df.iloc[int(len(df)/2)+1::4]\n",
    "\n",
    "\n"
   ]
  },
  {
   "cell_type": "code",
   "execution_count": null,
   "metadata": {},
   "outputs": [],
   "source": []
  },
  {
   "cell_type": "code",
   "execution_count": 58,
   "metadata": {},
   "outputs": [
    {
     "output_type": "stream",
     "name": "stdout",
     "text": "254\nfrom_head_to_middle_step_3(n5_5): 43 \n \nfrom_middle_to_tail_step_4(n5_5): 32\n"
    }
   ],
   "source": [
    "print(len(n5_5))\n",
    "print(f\"from_head_to_middle_step_3(n5_5): {len(from_head_to_middle_step_3(n5_5))} \\n \")\n",
    "print(f\"from_middle_to_tail_step_4(n5_5): {len(from_middle_to_tail_step_4(n5_5))}\")"
   ]
  },
  {
   "cell_type": "code",
   "execution_count": 56,
   "metadata": {},
   "outputs": [
    {
     "output_type": "execute_result",
     "data": {
      "text/plain": "129"
     },
     "metadata": {},
     "execution_count": 56
    }
   ],
   "source": [
    "43*3"
   ]
  },
  {
   "cell_type": "code",
   "execution_count": 55,
   "metadata": {},
   "outputs": [
    {
     "output_type": "execute_result",
     "data": {
      "text/plain": "128"
     },
     "metadata": {},
     "execution_count": 55
    }
   ],
   "source": [
    "32*4"
   ]
  },
  {
   "cell_type": "code",
   "execution_count": 17,
   "metadata": {},
   "outputs": [
    {
     "output_type": "stream",
     "name": "stdout",
     "text": "Wall time: 0 ns\n"
    },
    {
     "output_type": "execute_result",
     "data": {
      "text/plain": "               Date      Time  Global_active_power  Global_reactive_power  \\\n1088789   10/1/2009  19:53:00                6.720                  0.154   \n992409    4/11/2008  21:33:00                6.880                  0.242   \n707256    20/4/2008  21:00:00                8.268                  0.312   \n275285    25/6/2007  21:29:00                6.120                  0.086   \n98142     22/2/2007  21:06:00                9.116                  0.000   \n1598524  30/12/2009  19:28:00                6.092                  0.462   \n1018346  22/11/2008  21:50:00                7.256                  0.056   \n813854     3/7/2008  21:38:00                6.330                  0.000   \n992255    4/11/2008  18:59:00                6.876                  0.180   \n1228519   17/4/2009  20:43:00                7.074                  0.204   \n1029768  30/11/2008  20:12:00                7.852                  0.000   \n476834   12/11/2007  20:38:00                7.770                  0.368   \n514234    8/12/2007  19:58:00                6.022                  0.294   \n2066470  20/11/2010  18:34:00                6.266                  0.360   \n151361    31/3/2007  20:05:00                6.210                  0.526   \n535783   23/12/2007  19:07:00                6.952                  0.262   \n1019570  23/11/2008  18:14:00                7.622                  0.458   \n476833   12/11/2007  20:37:00                7.716                  0.376   \n1019702  23/11/2008  20:26:00                7.174                  0.184   \n18958    29/12/2006  21:22:00                6.214                  0.120   \n1019713  23/11/2008  20:37:00                6.392                  0.162   \n1633028   23/1/2010  18:32:00                6.694                  0.566   \n534447   22/12/2007  20:51:00                6.456                  0.424   \n1775627    2/5/2010  19:11:00                7.044                  0.048   \n515629    9/12/2007  19:13:00                6.250                  0.272   \n1019577  23/11/2008  18:21:00                6.432                  0.168   \n514276    8/12/2007  20:40:00                6.222                  0.324   \n96622     21/2/2007  19:46:00                6.694                  0.292   \n243637     3/6/2007  22:01:00                6.226                  0.188   \n18961    29/12/2006  21:25:00                6.086                  0.000   \n542918   28/12/2007  18:02:00                6.408                  0.238   \n98146     22/2/2007  21:10:00                9.244                  0.000   \n640871     5/3/2008  18:35:00                6.512                  0.272   \n1088786   10/1/2009  19:50:00                6.312                  0.172   \n1150721   22/2/2009  20:05:00                6.820                  0.096   \n641055     5/3/2008  21:39:00                7.302                  0.062   \n1533686  15/11/2009  18:50:00                6.434                  0.378   \n542932   28/12/2007  18:16:00                6.914                  0.210   \n476827   12/11/2007  20:31:00                8.026                  0.384   \n53461     22/1/2007  20:25:00                7.608                  0.194   \n19030    29/12/2006  22:34:00                6.238                  0.268   \n135619    20/3/2007  21:43:00                6.176                  0.364   \n17494    28/12/2006  20:58:00                6.386                  0.374   \n95227     20/2/2007  20:31:00                7.204                  0.090   \n\n            Voltage  Global_intensity  Sub_metering_1  Sub_metering_2  \\\n1088789  233.979996         28.600000             0.0            72.0   \n992409   235.339996         29.200001             0.0            72.0   \n707256   232.300003         35.599998             1.0            72.0   \n275285   233.479996         26.200001             0.0            72.0   \n98142    226.460007         40.200001            34.0            67.0   \n1598524  236.309998         25.799999             0.0            73.0   \n1018346  229.570007         31.600000            35.0            36.0   \n813854   234.300003         27.000000             1.0            71.0   \n992255   228.750000         30.000000             0.0            70.0   \n1228519  236.550003         29.799999             0.0            73.0   \n1029768  233.070007         33.599998             1.0            71.0   \n476834   233.429993         33.200001             0.0            73.0   \n514234   233.850006         25.799999             0.0            35.0   \n2066470  229.820007         27.600000            14.0            35.0   \n151361   235.800003         26.400000             0.0            37.0   \n535783   231.009995         30.000000             0.0            70.0   \n1019570  229.619995         33.200001             0.0            35.0   \n476833   232.259995         33.200001             0.0            72.0   \n1019702  232.210007         30.799999             1.0            36.0   \n18958    230.529999         26.799999             0.0            70.0   \n1019713  234.889999         27.200001             2.0            37.0   \n1633028  233.149994         28.799999             0.0            39.0   \n534447   233.160004         27.600000             1.0            35.0   \n1775627  232.929993         30.400000            26.0            72.0   \n515629   229.660004         27.200001             0.0            34.0   \n1019577  231.559998         27.799999             0.0            33.0   \n514276   233.619995         26.600000             0.0            36.0   \n96622    232.039993         28.799999             0.0            35.0   \n243637   228.460007         27.200001             0.0            70.0   \n18961    229.039993         26.600000             0.0            69.0   \n542918   236.300003         27.200001             0.0            59.0   \n98146    224.240005         41.200001            34.0            66.0   \n640871   233.919998         27.799999             0.0            72.0   \n1088786  234.669998         27.000000             1.0            64.0   \n1150721  235.869995         28.799999             0.0            72.0   \n641055   233.130005         31.600000            21.0            35.0   \n1533686  232.119995         28.000000             0.0            61.0   \n542932   237.389999         29.000000             0.0            73.0   \n476827   231.960007         34.599998             0.0            72.0   \n53461    231.979996         32.799999             0.0            69.0   \n19030    235.119995         26.400000             0.0            73.0   \n135619   231.839996         26.600000             1.0            36.0   \n17494    236.630005         27.000000             1.0            36.0   \n95227    231.779999         31.000000             0.0            71.0   \n\n         Sub_metering_3  \n1088789            17.0  \n992409             17.0  \n707256             17.0  \n275285             17.0  \n98142              16.0  \n1598524             0.0  \n1018346            16.0  \n813854             18.0  \n992255              0.0  \n1228519            17.0  \n1029768            16.0  \n476834             16.0  \n514234             17.0  \n2066470            16.0  \n151361             17.0  \n535783              0.0  \n1019570            16.0  \n476833             17.0  \n1019702            17.0  \n18958               0.0  \n1019713            17.0  \n1633028            27.0  \n534447              0.0  \n1775627            13.0  \n515629             16.0  \n1019577            16.0  \n514276             17.0  \n96622               0.0  \n243637              0.0  \n18961               0.0  \n542918             17.0  \n98146              16.0  \n640871              0.0  \n1088786            17.0  \n1150721            17.0  \n641055             16.0  \n1533686            17.0  \n542932             17.0  \n476827             17.0  \n53461              17.0  \n19030              17.0  \n135619             16.0  \n17494              17.0  \n95227              16.0  ",
      "text/html": "<div>\n<style scoped>\n    .dataframe tbody tr th:only-of-type {\n        vertical-align: middle;\n    }\n\n    .dataframe tbody tr th {\n        vertical-align: top;\n    }\n\n    .dataframe thead th {\n        text-align: right;\n    }\n</style>\n<table border=\"1\" class=\"dataframe\">\n  <thead>\n    <tr style=\"text-align: right;\">\n      <th></th>\n      <th>Date</th>\n      <th>Time</th>\n      <th>Global_active_power</th>\n      <th>Global_reactive_power</th>\n      <th>Voltage</th>\n      <th>Global_intensity</th>\n      <th>Sub_metering_1</th>\n      <th>Sub_metering_2</th>\n      <th>Sub_metering_3</th>\n    </tr>\n  </thead>\n  <tbody>\n    <tr>\n      <th>1088789</th>\n      <td>10/1/2009</td>\n      <td>19:53:00</td>\n      <td>6.720</td>\n      <td>0.154</td>\n      <td>233.979996</td>\n      <td>28.600000</td>\n      <td>0.0</td>\n      <td>72.0</td>\n      <td>17.0</td>\n    </tr>\n    <tr>\n      <th>992409</th>\n      <td>4/11/2008</td>\n      <td>21:33:00</td>\n      <td>6.880</td>\n      <td>0.242</td>\n      <td>235.339996</td>\n      <td>29.200001</td>\n      <td>0.0</td>\n      <td>72.0</td>\n      <td>17.0</td>\n    </tr>\n    <tr>\n      <th>707256</th>\n      <td>20/4/2008</td>\n      <td>21:00:00</td>\n      <td>8.268</td>\n      <td>0.312</td>\n      <td>232.300003</td>\n      <td>35.599998</td>\n      <td>1.0</td>\n      <td>72.0</td>\n      <td>17.0</td>\n    </tr>\n    <tr>\n      <th>275285</th>\n      <td>25/6/2007</td>\n      <td>21:29:00</td>\n      <td>6.120</td>\n      <td>0.086</td>\n      <td>233.479996</td>\n      <td>26.200001</td>\n      <td>0.0</td>\n      <td>72.0</td>\n      <td>17.0</td>\n    </tr>\n    <tr>\n      <th>98142</th>\n      <td>22/2/2007</td>\n      <td>21:06:00</td>\n      <td>9.116</td>\n      <td>0.000</td>\n      <td>226.460007</td>\n      <td>40.200001</td>\n      <td>34.0</td>\n      <td>67.0</td>\n      <td>16.0</td>\n    </tr>\n    <tr>\n      <th>1598524</th>\n      <td>30/12/2009</td>\n      <td>19:28:00</td>\n      <td>6.092</td>\n      <td>0.462</td>\n      <td>236.309998</td>\n      <td>25.799999</td>\n      <td>0.0</td>\n      <td>73.0</td>\n      <td>0.0</td>\n    </tr>\n    <tr>\n      <th>1018346</th>\n      <td>22/11/2008</td>\n      <td>21:50:00</td>\n      <td>7.256</td>\n      <td>0.056</td>\n      <td>229.570007</td>\n      <td>31.600000</td>\n      <td>35.0</td>\n      <td>36.0</td>\n      <td>16.0</td>\n    </tr>\n    <tr>\n      <th>813854</th>\n      <td>3/7/2008</td>\n      <td>21:38:00</td>\n      <td>6.330</td>\n      <td>0.000</td>\n      <td>234.300003</td>\n      <td>27.000000</td>\n      <td>1.0</td>\n      <td>71.0</td>\n      <td>18.0</td>\n    </tr>\n    <tr>\n      <th>992255</th>\n      <td>4/11/2008</td>\n      <td>18:59:00</td>\n      <td>6.876</td>\n      <td>0.180</td>\n      <td>228.750000</td>\n      <td>30.000000</td>\n      <td>0.0</td>\n      <td>70.0</td>\n      <td>0.0</td>\n    </tr>\n    <tr>\n      <th>1228519</th>\n      <td>17/4/2009</td>\n      <td>20:43:00</td>\n      <td>7.074</td>\n      <td>0.204</td>\n      <td>236.550003</td>\n      <td>29.799999</td>\n      <td>0.0</td>\n      <td>73.0</td>\n      <td>17.0</td>\n    </tr>\n    <tr>\n      <th>1029768</th>\n      <td>30/11/2008</td>\n      <td>20:12:00</td>\n      <td>7.852</td>\n      <td>0.000</td>\n      <td>233.070007</td>\n      <td>33.599998</td>\n      <td>1.0</td>\n      <td>71.0</td>\n      <td>16.0</td>\n    </tr>\n    <tr>\n      <th>476834</th>\n      <td>12/11/2007</td>\n      <td>20:38:00</td>\n      <td>7.770</td>\n      <td>0.368</td>\n      <td>233.429993</td>\n      <td>33.200001</td>\n      <td>0.0</td>\n      <td>73.0</td>\n      <td>16.0</td>\n    </tr>\n    <tr>\n      <th>514234</th>\n      <td>8/12/2007</td>\n      <td>19:58:00</td>\n      <td>6.022</td>\n      <td>0.294</td>\n      <td>233.850006</td>\n      <td>25.799999</td>\n      <td>0.0</td>\n      <td>35.0</td>\n      <td>17.0</td>\n    </tr>\n    <tr>\n      <th>2066470</th>\n      <td>20/11/2010</td>\n      <td>18:34:00</td>\n      <td>6.266</td>\n      <td>0.360</td>\n      <td>229.820007</td>\n      <td>27.600000</td>\n      <td>14.0</td>\n      <td>35.0</td>\n      <td>16.0</td>\n    </tr>\n    <tr>\n      <th>151361</th>\n      <td>31/3/2007</td>\n      <td>20:05:00</td>\n      <td>6.210</td>\n      <td>0.526</td>\n      <td>235.800003</td>\n      <td>26.400000</td>\n      <td>0.0</td>\n      <td>37.0</td>\n      <td>17.0</td>\n    </tr>\n    <tr>\n      <th>535783</th>\n      <td>23/12/2007</td>\n      <td>19:07:00</td>\n      <td>6.952</td>\n      <td>0.262</td>\n      <td>231.009995</td>\n      <td>30.000000</td>\n      <td>0.0</td>\n      <td>70.0</td>\n      <td>0.0</td>\n    </tr>\n    <tr>\n      <th>1019570</th>\n      <td>23/11/2008</td>\n      <td>18:14:00</td>\n      <td>7.622</td>\n      <td>0.458</td>\n      <td>229.619995</td>\n      <td>33.200001</td>\n      <td>0.0</td>\n      <td>35.0</td>\n      <td>16.0</td>\n    </tr>\n    <tr>\n      <th>476833</th>\n      <td>12/11/2007</td>\n      <td>20:37:00</td>\n      <td>7.716</td>\n      <td>0.376</td>\n      <td>232.259995</td>\n      <td>33.200001</td>\n      <td>0.0</td>\n      <td>72.0</td>\n      <td>17.0</td>\n    </tr>\n    <tr>\n      <th>1019702</th>\n      <td>23/11/2008</td>\n      <td>20:26:00</td>\n      <td>7.174</td>\n      <td>0.184</td>\n      <td>232.210007</td>\n      <td>30.799999</td>\n      <td>1.0</td>\n      <td>36.0</td>\n      <td>17.0</td>\n    </tr>\n    <tr>\n      <th>18958</th>\n      <td>29/12/2006</td>\n      <td>21:22:00</td>\n      <td>6.214</td>\n      <td>0.120</td>\n      <td>230.529999</td>\n      <td>26.799999</td>\n      <td>0.0</td>\n      <td>70.0</td>\n      <td>0.0</td>\n    </tr>\n    <tr>\n      <th>1019713</th>\n      <td>23/11/2008</td>\n      <td>20:37:00</td>\n      <td>6.392</td>\n      <td>0.162</td>\n      <td>234.889999</td>\n      <td>27.200001</td>\n      <td>2.0</td>\n      <td>37.0</td>\n      <td>17.0</td>\n    </tr>\n    <tr>\n      <th>1633028</th>\n      <td>23/1/2010</td>\n      <td>18:32:00</td>\n      <td>6.694</td>\n      <td>0.566</td>\n      <td>233.149994</td>\n      <td>28.799999</td>\n      <td>0.0</td>\n      <td>39.0</td>\n      <td>27.0</td>\n    </tr>\n    <tr>\n      <th>534447</th>\n      <td>22/12/2007</td>\n      <td>20:51:00</td>\n      <td>6.456</td>\n      <td>0.424</td>\n      <td>233.160004</td>\n      <td>27.600000</td>\n      <td>1.0</td>\n      <td>35.0</td>\n      <td>0.0</td>\n    </tr>\n    <tr>\n      <th>1775627</th>\n      <td>2/5/2010</td>\n      <td>19:11:00</td>\n      <td>7.044</td>\n      <td>0.048</td>\n      <td>232.929993</td>\n      <td>30.400000</td>\n      <td>26.0</td>\n      <td>72.0</td>\n      <td>13.0</td>\n    </tr>\n    <tr>\n      <th>515629</th>\n      <td>9/12/2007</td>\n      <td>19:13:00</td>\n      <td>6.250</td>\n      <td>0.272</td>\n      <td>229.660004</td>\n      <td>27.200001</td>\n      <td>0.0</td>\n      <td>34.0</td>\n      <td>16.0</td>\n    </tr>\n    <tr>\n      <th>1019577</th>\n      <td>23/11/2008</td>\n      <td>18:21:00</td>\n      <td>6.432</td>\n      <td>0.168</td>\n      <td>231.559998</td>\n      <td>27.799999</td>\n      <td>0.0</td>\n      <td>33.0</td>\n      <td>16.0</td>\n    </tr>\n    <tr>\n      <th>514276</th>\n      <td>8/12/2007</td>\n      <td>20:40:00</td>\n      <td>6.222</td>\n      <td>0.324</td>\n      <td>233.619995</td>\n      <td>26.600000</td>\n      <td>0.0</td>\n      <td>36.0</td>\n      <td>17.0</td>\n    </tr>\n    <tr>\n      <th>96622</th>\n      <td>21/2/2007</td>\n      <td>19:46:00</td>\n      <td>6.694</td>\n      <td>0.292</td>\n      <td>232.039993</td>\n      <td>28.799999</td>\n      <td>0.0</td>\n      <td>35.0</td>\n      <td>0.0</td>\n    </tr>\n    <tr>\n      <th>243637</th>\n      <td>3/6/2007</td>\n      <td>22:01:00</td>\n      <td>6.226</td>\n      <td>0.188</td>\n      <td>228.460007</td>\n      <td>27.200001</td>\n      <td>0.0</td>\n      <td>70.0</td>\n      <td>0.0</td>\n    </tr>\n    <tr>\n      <th>18961</th>\n      <td>29/12/2006</td>\n      <td>21:25:00</td>\n      <td>6.086</td>\n      <td>0.000</td>\n      <td>229.039993</td>\n      <td>26.600000</td>\n      <td>0.0</td>\n      <td>69.0</td>\n      <td>0.0</td>\n    </tr>\n    <tr>\n      <th>542918</th>\n      <td>28/12/2007</td>\n      <td>18:02:00</td>\n      <td>6.408</td>\n      <td>0.238</td>\n      <td>236.300003</td>\n      <td>27.200001</td>\n      <td>0.0</td>\n      <td>59.0</td>\n      <td>17.0</td>\n    </tr>\n    <tr>\n      <th>98146</th>\n      <td>22/2/2007</td>\n      <td>21:10:00</td>\n      <td>9.244</td>\n      <td>0.000</td>\n      <td>224.240005</td>\n      <td>41.200001</td>\n      <td>34.0</td>\n      <td>66.0</td>\n      <td>16.0</td>\n    </tr>\n    <tr>\n      <th>640871</th>\n      <td>5/3/2008</td>\n      <td>18:35:00</td>\n      <td>6.512</td>\n      <td>0.272</td>\n      <td>233.919998</td>\n      <td>27.799999</td>\n      <td>0.0</td>\n      <td>72.0</td>\n      <td>0.0</td>\n    </tr>\n    <tr>\n      <th>1088786</th>\n      <td>10/1/2009</td>\n      <td>19:50:00</td>\n      <td>6.312</td>\n      <td>0.172</td>\n      <td>234.669998</td>\n      <td>27.000000</td>\n      <td>1.0</td>\n      <td>64.0</td>\n      <td>17.0</td>\n    </tr>\n    <tr>\n      <th>1150721</th>\n      <td>22/2/2009</td>\n      <td>20:05:00</td>\n      <td>6.820</td>\n      <td>0.096</td>\n      <td>235.869995</td>\n      <td>28.799999</td>\n      <td>0.0</td>\n      <td>72.0</td>\n      <td>17.0</td>\n    </tr>\n    <tr>\n      <th>641055</th>\n      <td>5/3/2008</td>\n      <td>21:39:00</td>\n      <td>7.302</td>\n      <td>0.062</td>\n      <td>233.130005</td>\n      <td>31.600000</td>\n      <td>21.0</td>\n      <td>35.0</td>\n      <td>16.0</td>\n    </tr>\n    <tr>\n      <th>1533686</th>\n      <td>15/11/2009</td>\n      <td>18:50:00</td>\n      <td>6.434</td>\n      <td>0.378</td>\n      <td>232.119995</td>\n      <td>28.000000</td>\n      <td>0.0</td>\n      <td>61.0</td>\n      <td>17.0</td>\n    </tr>\n    <tr>\n      <th>542932</th>\n      <td>28/12/2007</td>\n      <td>18:16:00</td>\n      <td>6.914</td>\n      <td>0.210</td>\n      <td>237.389999</td>\n      <td>29.000000</td>\n      <td>0.0</td>\n      <td>73.0</td>\n      <td>17.0</td>\n    </tr>\n    <tr>\n      <th>476827</th>\n      <td>12/11/2007</td>\n      <td>20:31:00</td>\n      <td>8.026</td>\n      <td>0.384</td>\n      <td>231.960007</td>\n      <td>34.599998</td>\n      <td>0.0</td>\n      <td>72.0</td>\n      <td>17.0</td>\n    </tr>\n    <tr>\n      <th>53461</th>\n      <td>22/1/2007</td>\n      <td>20:25:00</td>\n      <td>7.608</td>\n      <td>0.194</td>\n      <td>231.979996</td>\n      <td>32.799999</td>\n      <td>0.0</td>\n      <td>69.0</td>\n      <td>17.0</td>\n    </tr>\n    <tr>\n      <th>19030</th>\n      <td>29/12/2006</td>\n      <td>22:34:00</td>\n      <td>6.238</td>\n      <td>0.268</td>\n      <td>235.119995</td>\n      <td>26.400000</td>\n      <td>0.0</td>\n      <td>73.0</td>\n      <td>17.0</td>\n    </tr>\n    <tr>\n      <th>135619</th>\n      <td>20/3/2007</td>\n      <td>21:43:00</td>\n      <td>6.176</td>\n      <td>0.364</td>\n      <td>231.839996</td>\n      <td>26.600000</td>\n      <td>1.0</td>\n      <td>36.0</td>\n      <td>16.0</td>\n    </tr>\n    <tr>\n      <th>17494</th>\n      <td>28/12/2006</td>\n      <td>20:58:00</td>\n      <td>6.386</td>\n      <td>0.374</td>\n      <td>236.630005</td>\n      <td>27.000000</td>\n      <td>1.0</td>\n      <td>36.0</td>\n      <td>17.0</td>\n    </tr>\n    <tr>\n      <th>95227</th>\n      <td>20/2/2007</td>\n      <td>20:31:00</td>\n      <td>7.204</td>\n      <td>0.090</td>\n      <td>231.779999</td>\n      <td>31.000000</td>\n      <td>0.0</td>\n      <td>71.0</td>\n      <td>16.0</td>\n    </tr>\n  </tbody>\n</table>\n</div>"
     },
     "metadata": {},
     "execution_count": 17
    }
   ],
   "source": [
    "%%time\n",
    "from_head_to_middle_step_3(n5_5)"
   ]
  },
  {
   "cell_type": "code",
   "execution_count": 18,
   "metadata": {},
   "outputs": [
    {
     "output_type": "stream",
     "name": "stdout",
     "text": "Wall time: 0 ns\n"
    },
    {
     "output_type": "execute_result",
     "data": {
      "text/plain": "               Date      Time  Global_active_power  Global_reactive_power  \\\n433596   13/10/2007  20:00:00                6.502                  0.266   \n1152282   23/2/2009  22:06:00                7.120                  0.214   \n483912   17/11/2007  18:36:00                6.064                  0.446   \n70675      3/2/2007  19:19:00                6.408                  0.704   \n31719      7/1/2007  18:03:00                6.458                  0.000   \n51960     21/1/2007  19:24:00                7.480                  0.180   \n95258     20/2/2007  21:02:00                6.504                  0.168   \n515634    9/12/2007  19:18:00                6.282                  0.292   \n514269    8/12/2007  20:33:00                6.192                  0.478   \n727288     4/5/2008  18:52:00                6.208                  0.460   \n135613    20/3/2007  21:37:00                6.054                  0.240   \n1621651   15/1/2010  20:55:00                7.860                  0.446   \n135612    20/3/2007  21:36:00                6.086                  0.262   \n1019700  23/11/2008  20:24:00                7.000                  0.184   \n1621681   15/1/2010  21:25:00                6.126                  0.258   \n1088795   10/1/2009  19:59:00                8.764                  0.060   \n51957     21/1/2007  19:21:00                6.320                  0.228   \n1204035   31/3/2009  20:39:00                6.506                  0.000   \n1183859   17/3/2009  20:23:00                7.058                  0.116   \n959170   12/10/2008  19:34:00                6.202                  0.380   \n992361    4/11/2008  20:45:00                7.720                  0.452   \n1183861   17/3/2009  20:25:00                7.880                  0.000   \n641053     5/3/2008  21:37:00                6.558                  0.074   \n666902    23/3/2008  20:26:00                7.090                  0.194   \n1097423   16/1/2009  19:47:00                7.242                  0.398   \n508560    4/12/2007  21:24:00                6.330                  0.436   \n515624    9/12/2007  19:08:00                6.202                  0.178   \n152911     1/4/2007  21:55:00                7.752                  0.292   \n291115     6/7/2007  21:19:00                6.750                  0.350   \n34765      9/1/2007  20:49:00                6.112                  0.116   \n1546689  24/11/2009  19:33:00                8.392                  0.216   \n1723759   27/3/2010  18:43:00                6.886                  0.216   \n1775630    2/5/2010  19:14:00                6.392                  0.000   \n\n            Voltage  Global_intensity  Sub_metering_1  Sub_metering_2  \\\n433596   231.850006         28.000000             0.0            35.0   \n1152282  233.279999         30.400000             2.0            70.0   \n483912   231.190002         26.200001             0.0            35.0   \n70675    231.889999         27.799999             9.0            36.0   \n31719    230.850006         27.799999             0.0            69.0   \n51960    225.520004         33.200001             0.0            67.0   \n95258    231.600006         28.200001            33.0            34.0   \n515634   230.199997         27.200001             0.0            34.0   \n514269   233.270004         26.600000             0.0            36.0   \n727288   237.360001         26.400000            32.0            38.0   \n135613   233.910004         25.799999             2.0            35.0   \n1621651  235.610001         33.599998             9.0            74.0   \n135612   234.449997         26.000000             1.0            36.0   \n1019700  232.690002         30.200001             1.0            30.0   \n1621681  236.490005         26.000000             1.0            37.0   \n1088795  232.350006         37.599998            36.0            71.0   \n51957    226.029999         28.200001            16.0            34.0   \n1204035  234.279999         27.600000             0.0            71.0   \n1183859  237.270004         30.000000             0.0            64.0   \n959170   232.949997         26.799999             0.0            46.0   \n992361   232.639999         33.200001             0.0            72.0   \n1183861  236.800003         33.200001             0.0            72.0   \n641053   233.639999         28.000000             1.0            35.0   \n666902   233.250000         30.400000             0.0            72.0   \n1097423  238.800003         30.600000            23.0            36.0   \n508560   237.369995         26.799999             0.0            36.0   \n515624   230.899994         26.799999             0.0            34.0   \n152911   233.369995         33.200001             0.0            70.0   \n291115   235.360001         28.799999             2.0            72.0   \n34765    233.809998         26.200001             0.0            36.0   \n1546689  232.899994         36.200001            10.0            70.0   \n1723759  232.279999         29.600000             0.0            71.0   \n1775630  233.990005         27.400000            26.0            72.0   \n\n         Sub_metering_3  \n433596             16.0  \n1152282            17.0  \n483912             16.0  \n70675              17.0  \n31719              16.0  \n51960              15.0  \n95258              16.0  \n515634             16.0  \n514269             17.0  \n727288             18.0  \n135613             17.0  \n1621651            18.0  \n135612             17.0  \n1019700            17.0  \n1621681            18.0  \n1088795            17.0  \n51957              16.0  \n1204035            16.0  \n1183859            18.0  \n959170             17.0  \n992361             17.0  \n1183861            17.0  \n641053             17.0  \n666902             17.0  \n1097423            18.0  \n508560             18.0  \n515624             17.0  \n152911             17.0  \n291115             17.0  \n34765              18.0  \n1546689            17.0  \n1723759            26.0  \n1775630             1.0  ",
      "text/html": "<div>\n<style scoped>\n    .dataframe tbody tr th:only-of-type {\n        vertical-align: middle;\n    }\n\n    .dataframe tbody tr th {\n        vertical-align: top;\n    }\n\n    .dataframe thead th {\n        text-align: right;\n    }\n</style>\n<table border=\"1\" class=\"dataframe\">\n  <thead>\n    <tr style=\"text-align: right;\">\n      <th></th>\n      <th>Date</th>\n      <th>Time</th>\n      <th>Global_active_power</th>\n      <th>Global_reactive_power</th>\n      <th>Voltage</th>\n      <th>Global_intensity</th>\n      <th>Sub_metering_1</th>\n      <th>Sub_metering_2</th>\n      <th>Sub_metering_3</th>\n    </tr>\n  </thead>\n  <tbody>\n    <tr>\n      <th>433596</th>\n      <td>13/10/2007</td>\n      <td>20:00:00</td>\n      <td>6.502</td>\n      <td>0.266</td>\n      <td>231.850006</td>\n      <td>28.000000</td>\n      <td>0.0</td>\n      <td>35.0</td>\n      <td>16.0</td>\n    </tr>\n    <tr>\n      <th>1152282</th>\n      <td>23/2/2009</td>\n      <td>22:06:00</td>\n      <td>7.120</td>\n      <td>0.214</td>\n      <td>233.279999</td>\n      <td>30.400000</td>\n      <td>2.0</td>\n      <td>70.0</td>\n      <td>17.0</td>\n    </tr>\n    <tr>\n      <th>483912</th>\n      <td>17/11/2007</td>\n      <td>18:36:00</td>\n      <td>6.064</td>\n      <td>0.446</td>\n      <td>231.190002</td>\n      <td>26.200001</td>\n      <td>0.0</td>\n      <td>35.0</td>\n      <td>16.0</td>\n    </tr>\n    <tr>\n      <th>70675</th>\n      <td>3/2/2007</td>\n      <td>19:19:00</td>\n      <td>6.408</td>\n      <td>0.704</td>\n      <td>231.889999</td>\n      <td>27.799999</td>\n      <td>9.0</td>\n      <td>36.0</td>\n      <td>17.0</td>\n    </tr>\n    <tr>\n      <th>31719</th>\n      <td>7/1/2007</td>\n      <td>18:03:00</td>\n      <td>6.458</td>\n      <td>0.000</td>\n      <td>230.850006</td>\n      <td>27.799999</td>\n      <td>0.0</td>\n      <td>69.0</td>\n      <td>16.0</td>\n    </tr>\n    <tr>\n      <th>51960</th>\n      <td>21/1/2007</td>\n      <td>19:24:00</td>\n      <td>7.480</td>\n      <td>0.180</td>\n      <td>225.520004</td>\n      <td>33.200001</td>\n      <td>0.0</td>\n      <td>67.0</td>\n      <td>15.0</td>\n    </tr>\n    <tr>\n      <th>95258</th>\n      <td>20/2/2007</td>\n      <td>21:02:00</td>\n      <td>6.504</td>\n      <td>0.168</td>\n      <td>231.600006</td>\n      <td>28.200001</td>\n      <td>33.0</td>\n      <td>34.0</td>\n      <td>16.0</td>\n    </tr>\n    <tr>\n      <th>515634</th>\n      <td>9/12/2007</td>\n      <td>19:18:00</td>\n      <td>6.282</td>\n      <td>0.292</td>\n      <td>230.199997</td>\n      <td>27.200001</td>\n      <td>0.0</td>\n      <td>34.0</td>\n      <td>16.0</td>\n    </tr>\n    <tr>\n      <th>514269</th>\n      <td>8/12/2007</td>\n      <td>20:33:00</td>\n      <td>6.192</td>\n      <td>0.478</td>\n      <td>233.270004</td>\n      <td>26.600000</td>\n      <td>0.0</td>\n      <td>36.0</td>\n      <td>17.0</td>\n    </tr>\n    <tr>\n      <th>727288</th>\n      <td>4/5/2008</td>\n      <td>18:52:00</td>\n      <td>6.208</td>\n      <td>0.460</td>\n      <td>237.360001</td>\n      <td>26.400000</td>\n      <td>32.0</td>\n      <td>38.0</td>\n      <td>18.0</td>\n    </tr>\n    <tr>\n      <th>135613</th>\n      <td>20/3/2007</td>\n      <td>21:37:00</td>\n      <td>6.054</td>\n      <td>0.240</td>\n      <td>233.910004</td>\n      <td>25.799999</td>\n      <td>2.0</td>\n      <td>35.0</td>\n      <td>17.0</td>\n    </tr>\n    <tr>\n      <th>1621651</th>\n      <td>15/1/2010</td>\n      <td>20:55:00</td>\n      <td>7.860</td>\n      <td>0.446</td>\n      <td>235.610001</td>\n      <td>33.599998</td>\n      <td>9.0</td>\n      <td>74.0</td>\n      <td>18.0</td>\n    </tr>\n    <tr>\n      <th>135612</th>\n      <td>20/3/2007</td>\n      <td>21:36:00</td>\n      <td>6.086</td>\n      <td>0.262</td>\n      <td>234.449997</td>\n      <td>26.000000</td>\n      <td>1.0</td>\n      <td>36.0</td>\n      <td>17.0</td>\n    </tr>\n    <tr>\n      <th>1019700</th>\n      <td>23/11/2008</td>\n      <td>20:24:00</td>\n      <td>7.000</td>\n      <td>0.184</td>\n      <td>232.690002</td>\n      <td>30.200001</td>\n      <td>1.0</td>\n      <td>30.0</td>\n      <td>17.0</td>\n    </tr>\n    <tr>\n      <th>1621681</th>\n      <td>15/1/2010</td>\n      <td>21:25:00</td>\n      <td>6.126</td>\n      <td>0.258</td>\n      <td>236.490005</td>\n      <td>26.000000</td>\n      <td>1.0</td>\n      <td>37.0</td>\n      <td>18.0</td>\n    </tr>\n    <tr>\n      <th>1088795</th>\n      <td>10/1/2009</td>\n      <td>19:59:00</td>\n      <td>8.764</td>\n      <td>0.060</td>\n      <td>232.350006</td>\n      <td>37.599998</td>\n      <td>36.0</td>\n      <td>71.0</td>\n      <td>17.0</td>\n    </tr>\n    <tr>\n      <th>51957</th>\n      <td>21/1/2007</td>\n      <td>19:21:00</td>\n      <td>6.320</td>\n      <td>0.228</td>\n      <td>226.029999</td>\n      <td>28.200001</td>\n      <td>16.0</td>\n      <td>34.0</td>\n      <td>16.0</td>\n    </tr>\n    <tr>\n      <th>1204035</th>\n      <td>31/3/2009</td>\n      <td>20:39:00</td>\n      <td>6.506</td>\n      <td>0.000</td>\n      <td>234.279999</td>\n      <td>27.600000</td>\n      <td>0.0</td>\n      <td>71.0</td>\n      <td>16.0</td>\n    </tr>\n    <tr>\n      <th>1183859</th>\n      <td>17/3/2009</td>\n      <td>20:23:00</td>\n      <td>7.058</td>\n      <td>0.116</td>\n      <td>237.270004</td>\n      <td>30.000000</td>\n      <td>0.0</td>\n      <td>64.0</td>\n      <td>18.0</td>\n    </tr>\n    <tr>\n      <th>959170</th>\n      <td>12/10/2008</td>\n      <td>19:34:00</td>\n      <td>6.202</td>\n      <td>0.380</td>\n      <td>232.949997</td>\n      <td>26.799999</td>\n      <td>0.0</td>\n      <td>46.0</td>\n      <td>17.0</td>\n    </tr>\n    <tr>\n      <th>992361</th>\n      <td>4/11/2008</td>\n      <td>20:45:00</td>\n      <td>7.720</td>\n      <td>0.452</td>\n      <td>232.639999</td>\n      <td>33.200001</td>\n      <td>0.0</td>\n      <td>72.0</td>\n      <td>17.0</td>\n    </tr>\n    <tr>\n      <th>1183861</th>\n      <td>17/3/2009</td>\n      <td>20:25:00</td>\n      <td>7.880</td>\n      <td>0.000</td>\n      <td>236.800003</td>\n      <td>33.200001</td>\n      <td>0.0</td>\n      <td>72.0</td>\n      <td>17.0</td>\n    </tr>\n    <tr>\n      <th>641053</th>\n      <td>5/3/2008</td>\n      <td>21:37:00</td>\n      <td>6.558</td>\n      <td>0.074</td>\n      <td>233.639999</td>\n      <td>28.000000</td>\n      <td>1.0</td>\n      <td>35.0</td>\n      <td>17.0</td>\n    </tr>\n    <tr>\n      <th>666902</th>\n      <td>23/3/2008</td>\n      <td>20:26:00</td>\n      <td>7.090</td>\n      <td>0.194</td>\n      <td>233.250000</td>\n      <td>30.400000</td>\n      <td>0.0</td>\n      <td>72.0</td>\n      <td>17.0</td>\n    </tr>\n    <tr>\n      <th>1097423</th>\n      <td>16/1/2009</td>\n      <td>19:47:00</td>\n      <td>7.242</td>\n      <td>0.398</td>\n      <td>238.800003</td>\n      <td>30.600000</td>\n      <td>23.0</td>\n      <td>36.0</td>\n      <td>18.0</td>\n    </tr>\n    <tr>\n      <th>508560</th>\n      <td>4/12/2007</td>\n      <td>21:24:00</td>\n      <td>6.330</td>\n      <td>0.436</td>\n      <td>237.369995</td>\n      <td>26.799999</td>\n      <td>0.0</td>\n      <td>36.0</td>\n      <td>18.0</td>\n    </tr>\n    <tr>\n      <th>515624</th>\n      <td>9/12/2007</td>\n      <td>19:08:00</td>\n      <td>6.202</td>\n      <td>0.178</td>\n      <td>230.899994</td>\n      <td>26.799999</td>\n      <td>0.0</td>\n      <td>34.0</td>\n      <td>17.0</td>\n    </tr>\n    <tr>\n      <th>152911</th>\n      <td>1/4/2007</td>\n      <td>21:55:00</td>\n      <td>7.752</td>\n      <td>0.292</td>\n      <td>233.369995</td>\n      <td>33.200001</td>\n      <td>0.0</td>\n      <td>70.0</td>\n      <td>17.0</td>\n    </tr>\n    <tr>\n      <th>291115</th>\n      <td>6/7/2007</td>\n      <td>21:19:00</td>\n      <td>6.750</td>\n      <td>0.350</td>\n      <td>235.360001</td>\n      <td>28.799999</td>\n      <td>2.0</td>\n      <td>72.0</td>\n      <td>17.0</td>\n    </tr>\n    <tr>\n      <th>34765</th>\n      <td>9/1/2007</td>\n      <td>20:49:00</td>\n      <td>6.112</td>\n      <td>0.116</td>\n      <td>233.809998</td>\n      <td>26.200001</td>\n      <td>0.0</td>\n      <td>36.0</td>\n      <td>18.0</td>\n    </tr>\n    <tr>\n      <th>1546689</th>\n      <td>24/11/2009</td>\n      <td>19:33:00</td>\n      <td>8.392</td>\n      <td>0.216</td>\n      <td>232.899994</td>\n      <td>36.200001</td>\n      <td>10.0</td>\n      <td>70.0</td>\n      <td>17.0</td>\n    </tr>\n    <tr>\n      <th>1723759</th>\n      <td>27/3/2010</td>\n      <td>18:43:00</td>\n      <td>6.886</td>\n      <td>0.216</td>\n      <td>232.279999</td>\n      <td>29.600000</td>\n      <td>0.0</td>\n      <td>71.0</td>\n      <td>26.0</td>\n    </tr>\n    <tr>\n      <th>1775630</th>\n      <td>2/5/2010</td>\n      <td>19:14:00</td>\n      <td>6.392</td>\n      <td>0.000</td>\n      <td>233.990005</td>\n      <td>27.400000</td>\n      <td>26.0</td>\n      <td>72.0</td>\n      <td>1.0</td>\n    </tr>\n  </tbody>\n</table>\n</div>"
     },
     "metadata": {},
     "execution_count": 18
    }
   ],
   "source": [
    "%%time\n",
    "from_middle_to_tail_step_4(n5_5)"
   ]
  },
  {
   "cell_type": "code",
   "execution_count": 19,
   "metadata": {},
   "outputs": [
    {
     "output_type": "execute_result",
     "data": {
      "text/plain": "Empty DataFrame\nColumns: [Date, Time, Global_active_power, Global_reactive_power, Voltage, Global_intensity, Sub_metering_1, Sub_metering_2, Sub_metering_3]\nIndex: []",
      "text/html": "<div>\n<style scoped>\n    .dataframe tbody tr th:only-of-type {\n        vertical-align: middle;\n    }\n\n    .dataframe tbody tr th {\n        vertical-align: top;\n    }\n\n    .dataframe thead th {\n        text-align: right;\n    }\n</style>\n<table border=\"1\" class=\"dataframe\">\n  <thead>\n    <tr style=\"text-align: right;\">\n      <th></th>\n      <th>Date</th>\n      <th>Time</th>\n      <th>Global_active_power</th>\n      <th>Global_reactive_power</th>\n      <th>Voltage</th>\n      <th>Global_intensity</th>\n      <th>Sub_metering_1</th>\n      <th>Sub_metering_2</th>\n      <th>Sub_metering_3</th>\n    </tr>\n  </thead>\n  <tbody>\n  </tbody>\n</table>\n</div>"
     },
     "metadata": {},
     "execution_count": 19
    }
   ],
   "source": [
    "n5_5.iloc[975:]"
   ]
  },
  {
   "cell_type": "code",
   "execution_count": null,
   "metadata": {},
   "outputs": [],
   "source": []
  }
 ],
 "metadata": {
  "language_info": {
   "codemirror_mode": {
    "name": "ipython",
    "version": 3
   },
   "file_extension": ".py",
   "mimetype": "text/x-python",
   "name": "python",
   "nbconvert_exporter": "python",
   "pygments_lexer": "ipython3",
   "version": "3.8.2-final"
  },
  "orig_nbformat": 2,
  "kernelspec": {
   "name": "python38264bitdslab2pyhton38condaec10670597054817b9a6f551d23c8534",
   "display_name": "Python 3.8.2 64-bit ('ds_lab2_pyhton3_8': conda)"
  }
 },
 "nbformat": 4,
 "nbformat_minor": 2
}