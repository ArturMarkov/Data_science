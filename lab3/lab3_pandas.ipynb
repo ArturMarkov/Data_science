{
 "cells": [
  {
   "cell_type": "code",
   "execution_count": 1,
   "metadata": {},
   "outputs": [],
   "source": [
    "import os\n",
    "#import request\n",
    "\n",
    "import pandas as pd"
   ]
  },
  {
   "cell_type": "code",
   "execution_count": 2,
   "metadata": {},
   "outputs": [],
   "source": [
    "time_dict={\"experiment\":[\"pandas\",\"nummpy\"]}"
   ]
  },
  {
   "cell_type": "code",
   "execution_count": 3,
   "metadata": {},
   "outputs": [
    {
     "output_type": "stream",
     "name": "stdout",
     "text": "Wall time: 7.78 s\n"
    }
   ],
   "source": [
    "%%time\n",
    "data = pd.read_csv('data\\household_power_consumption.txt', sep=\";\", header=0)\n",
    "clean_data = data.dropna()\n",
    "clean_data[['Global_reactive_power',\"Voltage\",\"Global_active_power\",\"Global_reactive_power\",\"Voltage\",\"Global_intensity\",\"Sub_metering_1\",\"Sub_metering_2\",\"Sub_metering_3\"]] = clean_data[['Global_reactive_power',\"Voltage\",\"Global_active_power\",\"Global_reactive_power\",\"Voltage\",\"Global_intensity\",\"Sub_metering_1\",\"Sub_metering_2\",\"Sub_metering_3\"]].astype(\"float32\")\n"
   ]
  },
  {
   "cell_type": "markdown",
   "metadata": {},
   "source": [
    "[Data sourse](https://archive.ics.uci.edu/ml/datasets/individual+household+electric+power+consumption)\n",
    "\n",
    "\n",
    "|               |               |\n",
    "| ------------- | ------------- |\n",
    "| **date**          | Date in format dd/mm/yyyy|\n",
    "| **time**          | time in format hh:mm:ss|\n",
    "|**global_active_power**| household global minute-averaged active power (in kilowatt)|\n",
    "|**global_reactive_power**|household global minute-averaged reactive power (in kilowatt)|\n",
    "|**voltage**|minute-averaged voltage (in volt) |\n",
    "|**global_intensity**| household global minute-averaged current intensity (in ampere)|\n",
    "|**sub_metering_1**|energy sub-metering No. 1 (in watt-hour of active energy). It corresponds to the kitchen, containing mainly a dishwasher, an oven and a microwave (hot plates are not electric but gas powered)|\n",
    "|**sub_metering_2**| energy sub-metering No. 2 (in watt-hour of active energy). It corresponds to the laundry room, containing a washing-machine, a tumble-drier, a refrigerator and a light.|\n",
    "|**sub_metering_3**|energy sub-metering No. 3 (in watt-hour of active energy). It corresponds to an electric water-heater and an air-conditioner.|"
   ]
  },
  {
   "cell_type": "markdown",
   "metadata": {},
   "source": [
    "## Task 1\n",
    "\n",
    "Select all rows where Global_active_power > 5 kW"
   ]
  },
  {
   "cell_type": "code",
   "execution_count": 4,
   "metadata": {},
   "outputs": [
    {
     "output_type": "stream",
     "name": "stdout",
     "text": "Wall time: 98.7 ms\n"
    },
    {
     "output_type": "execute_result",
     "data": {
      "text/plain": "               Date      Time  Global_active_power  Global_reactive_power  \\\n1        16/12/2006  17:25:00                5.360                  0.436   \n2        16/12/2006  17:26:00                5.374                  0.498   \n3        16/12/2006  17:27:00                5.388                  0.502   \n11       16/12/2006  17:35:00                5.412                  0.470   \n12       16/12/2006  17:36:00                5.224                  0.478   \n...             ...       ...                  ...                    ...   \n2069356  22/11/2010  18:40:00                5.408                  0.150   \n2069357  22/11/2010  18:41:00                5.528                  0.144   \n2071586  24/11/2010  07:50:00                5.172                  0.050   \n2071587  24/11/2010  07:51:00                5.750                  0.000   \n2072997  25/11/2010  07:21:00                5.074                  0.240   \n\n            Voltage  Global_intensity  Sub_metering_1  Sub_metering_2  \\\n1        233.630005         23.000000             0.0             1.0   \n2        233.289993         23.000000             0.0             2.0   \n3        233.740005         23.000000             0.0             1.0   \n11       232.779999         23.200001             0.0             1.0   \n12       232.990005         22.400000             0.0             1.0   \n...             ...               ...             ...             ...   \n2069356  231.500000         23.600000            48.0             0.0   \n2069357  232.479996         24.600000            53.0             0.0   \n2071586  235.179993         22.000000             0.0            38.0   \n2071587  234.399994         24.600000             0.0            39.0   \n2072997  238.550003         21.400000             1.0             2.0   \n\n         Sub_metering_3  \n1                  16.0  \n2                  17.0  \n3                  17.0  \n11                 17.0  \n12                 16.0  \n...                 ...  \n2069356             0.0  \n2069357             0.0  \n2071586            17.0  \n2071587            17.0  \n2072997            18.0  \n\n[17579 rows x 9 columns]",
      "text/html": "<div>\n<style scoped>\n    .dataframe tbody tr th:only-of-type {\n        vertical-align: middle;\n    }\n\n    .dataframe tbody tr th {\n        vertical-align: top;\n    }\n\n    .dataframe thead th {\n        text-align: right;\n    }\n</style>\n<table border=\"1\" class=\"dataframe\">\n  <thead>\n    <tr style=\"text-align: right;\">\n      <th></th>\n      <th>Date</th>\n      <th>Time</th>\n      <th>Global_active_power</th>\n      <th>Global_reactive_power</th>\n      <th>Voltage</th>\n      <th>Global_intensity</th>\n      <th>Sub_metering_1</th>\n      <th>Sub_metering_2</th>\n      <th>Sub_metering_3</th>\n    </tr>\n  </thead>\n  <tbody>\n    <tr>\n      <th>1</th>\n      <td>16/12/2006</td>\n      <td>17:25:00</td>\n      <td>5.360</td>\n      <td>0.436</td>\n      <td>233.630005</td>\n      <td>23.000000</td>\n      <td>0.0</td>\n      <td>1.0</td>\n      <td>16.0</td>\n    </tr>\n    <tr>\n      <th>2</th>\n      <td>16/12/2006</td>\n      <td>17:26:00</td>\n      <td>5.374</td>\n      <td>0.498</td>\n      <td>233.289993</td>\n      <td>23.000000</td>\n      <td>0.0</td>\n      <td>2.0</td>\n      <td>17.0</td>\n    </tr>\n    <tr>\n      <th>3</th>\n      <td>16/12/2006</td>\n      <td>17:27:00</td>\n      <td>5.388</td>\n      <td>0.502</td>\n      <td>233.740005</td>\n      <td>23.000000</td>\n      <td>0.0</td>\n      <td>1.0</td>\n      <td>17.0</td>\n    </tr>\n    <tr>\n      <th>11</th>\n      <td>16/12/2006</td>\n      <td>17:35:00</td>\n      <td>5.412</td>\n      <td>0.470</td>\n      <td>232.779999</td>\n      <td>23.200001</td>\n      <td>0.0</td>\n      <td>1.0</td>\n      <td>17.0</td>\n    </tr>\n    <tr>\n      <th>12</th>\n      <td>16/12/2006</td>\n      <td>17:36:00</td>\n      <td>5.224</td>\n      <td>0.478</td>\n      <td>232.990005</td>\n      <td>22.400000</td>\n      <td>0.0</td>\n      <td>1.0</td>\n      <td>16.0</td>\n    </tr>\n    <tr>\n      <th>...</th>\n      <td>...</td>\n      <td>...</td>\n      <td>...</td>\n      <td>...</td>\n      <td>...</td>\n      <td>...</td>\n      <td>...</td>\n      <td>...</td>\n      <td>...</td>\n    </tr>\n    <tr>\n      <th>2069356</th>\n      <td>22/11/2010</td>\n      <td>18:40:00</td>\n      <td>5.408</td>\n      <td>0.150</td>\n      <td>231.500000</td>\n      <td>23.600000</td>\n      <td>48.0</td>\n      <td>0.0</td>\n      <td>0.0</td>\n    </tr>\n    <tr>\n      <th>2069357</th>\n      <td>22/11/2010</td>\n      <td>18:41:00</td>\n      <td>5.528</td>\n      <td>0.144</td>\n      <td>232.479996</td>\n      <td>24.600000</td>\n      <td>53.0</td>\n      <td>0.0</td>\n      <td>0.0</td>\n    </tr>\n    <tr>\n      <th>2071586</th>\n      <td>24/11/2010</td>\n      <td>07:50:00</td>\n      <td>5.172</td>\n      <td>0.050</td>\n      <td>235.179993</td>\n      <td>22.000000</td>\n      <td>0.0</td>\n      <td>38.0</td>\n      <td>17.0</td>\n    </tr>\n    <tr>\n      <th>2071587</th>\n      <td>24/11/2010</td>\n      <td>07:51:00</td>\n      <td>5.750</td>\n      <td>0.000</td>\n      <td>234.399994</td>\n      <td>24.600000</td>\n      <td>0.0</td>\n      <td>39.0</td>\n      <td>17.0</td>\n    </tr>\n    <tr>\n      <th>2072997</th>\n      <td>25/11/2010</td>\n      <td>07:21:00</td>\n      <td>5.074</td>\n      <td>0.240</td>\n      <td>238.550003</td>\n      <td>21.400000</td>\n      <td>1.0</td>\n      <td>2.0</td>\n      <td>18.0</td>\n    </tr>\n  </tbody>\n</table>\n<p>17579 rows × 9 columns</p>\n</div>"
     },
     "metadata": {},
     "execution_count": 4
    }
   ],
   "source": [
    "%%time\n",
    "\n",
    "\n",
    "clean_data[clean_data.Global_active_power>=5]"
   ]
  },
  {
   "cell_type": "markdown",
   "metadata": {},
   "source": [
    "## Task 2\n",
    "\n",
    "Select all rows where Voltage > 235 V"
   ]
  },
  {
   "cell_type": "code",
   "execution_count": 5,
   "metadata": {},
   "outputs": [
    {
     "output_type": "stream",
     "name": "stdout",
     "text": "Wall time: 150 ms\n"
    },
    {
     "output_type": "execute_result",
     "data": {
      "text/plain": "               Date      Time  Global_active_power  Global_reactive_power  \\\n4        16/12/2006  17:28:00                3.666                  0.528   \n5        16/12/2006  17:29:00                3.520                  0.522   \n6        16/12/2006  17:30:00                3.702                  0.520   \n7        16/12/2006  17:31:00                3.700                  0.520   \n14       16/12/2006  17:38:00                4.054                  0.422   \n...             ...       ...                  ...                    ...   \n2075254  26/11/2010  20:58:00                0.946                  0.000   \n2075255  26/11/2010  20:59:00                0.944                  0.000   \n2075256  26/11/2010  21:00:00                0.938                  0.000   \n2075257  26/11/2010  21:01:00                0.934                  0.000   \n2075258  26/11/2010  21:02:00                0.932                  0.000   \n\n            Voltage  Global_intensity  Sub_metering_1  Sub_metering_2  \\\n4        235.679993              15.8             0.0             1.0   \n5        235.020004              15.0             0.0             2.0   \n6        235.089996              15.8             0.0             1.0   \n7        235.220001              15.8             0.0             1.0   \n14       235.240005              17.6             0.0             1.0   \n...             ...               ...             ...             ...   \n2075254  240.429993               4.0             0.0             0.0   \n2075255  240.000000               4.0             0.0             0.0   \n2075256  239.820007               3.8             0.0             0.0   \n2075257  239.699997               3.8             0.0             0.0   \n2075258  239.550003               3.8             0.0             0.0   \n\n         Sub_metering_3  \n4                  17.0  \n5                  17.0  \n6                  17.0  \n7                  17.0  \n14                 17.0  \n...                 ...  \n2075254             0.0  \n2075255             0.0  \n2075256             0.0  \n2075257             0.0  \n2075258             0.0  \n\n[1952491 rows x 9 columns]",
      "text/html": "<div>\n<style scoped>\n    .dataframe tbody tr th:only-of-type {\n        vertical-align: middle;\n    }\n\n    .dataframe tbody tr th {\n        vertical-align: top;\n    }\n\n    .dataframe thead th {\n        text-align: right;\n    }\n</style>\n<table border=\"1\" class=\"dataframe\">\n  <thead>\n    <tr style=\"text-align: right;\">\n      <th></th>\n      <th>Date</th>\n      <th>Time</th>\n      <th>Global_active_power</th>\n      <th>Global_reactive_power</th>\n      <th>Voltage</th>\n      <th>Global_intensity</th>\n      <th>Sub_metering_1</th>\n      <th>Sub_metering_2</th>\n      <th>Sub_metering_3</th>\n    </tr>\n  </thead>\n  <tbody>\n    <tr>\n      <th>4</th>\n      <td>16/12/2006</td>\n      <td>17:28:00</td>\n      <td>3.666</td>\n      <td>0.528</td>\n      <td>235.679993</td>\n      <td>15.8</td>\n      <td>0.0</td>\n      <td>1.0</td>\n      <td>17.0</td>\n    </tr>\n    <tr>\n      <th>5</th>\n      <td>16/12/2006</td>\n      <td>17:29:00</td>\n      <td>3.520</td>\n      <td>0.522</td>\n      <td>235.020004</td>\n      <td>15.0</td>\n      <td>0.0</td>\n      <td>2.0</td>\n      <td>17.0</td>\n    </tr>\n    <tr>\n      <th>6</th>\n      <td>16/12/2006</td>\n      <td>17:30:00</td>\n      <td>3.702</td>\n      <td>0.520</td>\n      <td>235.089996</td>\n      <td>15.8</td>\n      <td>0.0</td>\n      <td>1.0</td>\n      <td>17.0</td>\n    </tr>\n    <tr>\n      <th>7</th>\n      <td>16/12/2006</td>\n      <td>17:31:00</td>\n      <td>3.700</td>\n      <td>0.520</td>\n      <td>235.220001</td>\n      <td>15.8</td>\n      <td>0.0</td>\n      <td>1.0</td>\n      <td>17.0</td>\n    </tr>\n    <tr>\n      <th>14</th>\n      <td>16/12/2006</td>\n      <td>17:38:00</td>\n      <td>4.054</td>\n      <td>0.422</td>\n      <td>235.240005</td>\n      <td>17.6</td>\n      <td>0.0</td>\n      <td>1.0</td>\n      <td>17.0</td>\n    </tr>\n    <tr>\n      <th>...</th>\n      <td>...</td>\n      <td>...</td>\n      <td>...</td>\n      <td>...</td>\n      <td>...</td>\n      <td>...</td>\n      <td>...</td>\n      <td>...</td>\n      <td>...</td>\n    </tr>\n    <tr>\n      <th>2075254</th>\n      <td>26/11/2010</td>\n      <td>20:58:00</td>\n      <td>0.946</td>\n      <td>0.000</td>\n      <td>240.429993</td>\n      <td>4.0</td>\n      <td>0.0</td>\n      <td>0.0</td>\n      <td>0.0</td>\n    </tr>\n    <tr>\n      <th>2075255</th>\n      <td>26/11/2010</td>\n      <td>20:59:00</td>\n      <td>0.944</td>\n      <td>0.000</td>\n      <td>240.000000</td>\n      <td>4.0</td>\n      <td>0.0</td>\n      <td>0.0</td>\n      <td>0.0</td>\n    </tr>\n    <tr>\n      <th>2075256</th>\n      <td>26/11/2010</td>\n      <td>21:00:00</td>\n      <td>0.938</td>\n      <td>0.000</td>\n      <td>239.820007</td>\n      <td>3.8</td>\n      <td>0.0</td>\n      <td>0.0</td>\n      <td>0.0</td>\n    </tr>\n    <tr>\n      <th>2075257</th>\n      <td>26/11/2010</td>\n      <td>21:01:00</td>\n      <td>0.934</td>\n      <td>0.000</td>\n      <td>239.699997</td>\n      <td>3.8</td>\n      <td>0.0</td>\n      <td>0.0</td>\n      <td>0.0</td>\n    </tr>\n    <tr>\n      <th>2075258</th>\n      <td>26/11/2010</td>\n      <td>21:02:00</td>\n      <td>0.932</td>\n      <td>0.000</td>\n      <td>239.550003</td>\n      <td>3.8</td>\n      <td>0.0</td>\n      <td>0.0</td>\n      <td>0.0</td>\n    </tr>\n  </tbody>\n</table>\n<p>1952491 rows × 9 columns</p>\n</div>"
     },
     "metadata": {},
     "execution_count": 5
    }
   ],
   "source": [
    " %%time\n",
    " clean_data[clean_data.Voltage>235]\n",
    " "
   ]
  },
  {
   "cell_type": "markdown",
   "metadata": {},
   "source": [
    "## Task 3\n",
    "Select all where Sub_metering_2 > Sub_metering_3 in range [19,20] of Global_intensity\n",
    "\n",
    "*Обрати всі домогосподарства, у яких сила струму лежить в межах 19-20 А, для них виявити ті, у яких пральна машина та холодильних споживають більше, ніж бойлер та кондиціонер. *"
   ]
  },
  {
   "cell_type": "code",
   "execution_count": 6,
   "metadata": {},
   "outputs": [
    {
     "output_type": "stream",
     "name": "stdout",
     "text": "Wall time: 17 ms\n"
    },
    {
     "output_type": "execute_result",
     "data": {
      "text/plain": "               Date      Time  Global_active_power  Global_reactive_power  \\\n45       16/12/2006  18:09:00                4.464                  0.136   \n460      17/12/2006  01:04:00                4.582                  0.258   \n464      17/12/2006  01:08:00                4.618                  0.104   \n475      17/12/2006  01:19:00                4.636                  0.140   \n476      17/12/2006  01:20:00                4.634                  0.152   \n...             ...       ...                  ...                    ...   \n2071589  24/11/2010  07:53:00                4.666                  0.000   \n2071590  24/11/2010  07:54:00                4.694                  0.000   \n2071591  24/11/2010  07:55:00                4.602                  0.000   \n2071592  24/11/2010  07:56:00                4.536                  0.000   \n2071593  24/11/2010  07:57:00                4.626                  0.000   \n\n            Voltage  Global_intensity  Sub_metering_1  Sub_metering_2  \\\n45       234.660004         19.000000             0.0            37.0   \n460      238.080002         19.600000             0.0            13.0   \n464      239.610001         19.600000             0.0            27.0   \n475      237.369995         19.400000             0.0            36.0   \n476      237.169998         19.400000             0.0            35.0   \n...             ...               ...             ...             ...   \n2071589  235.720001         19.799999             0.0            39.0   \n2071590  236.779999         19.799999             0.0            39.0   \n2071591  237.080002         19.400000             0.0            40.0   \n2071592  237.029999         19.000000             0.0            39.0   \n2071593  236.779999         19.400000             0.0            39.0   \n\n         Sub_metering_3  \n45                 16.0  \n460                 0.0  \n464                 0.0  \n475                 0.0  \n476                 0.0  \n...                 ...  \n2071589            17.0  \n2071590            18.0  \n2071591            17.0  \n2071592            17.0  \n2071593            17.0  \n\n[2509 rows x 9 columns]",
      "text/html": "<div>\n<style scoped>\n    .dataframe tbody tr th:only-of-type {\n        vertical-align: middle;\n    }\n\n    .dataframe tbody tr th {\n        vertical-align: top;\n    }\n\n    .dataframe thead th {\n        text-align: right;\n    }\n</style>\n<table border=\"1\" class=\"dataframe\">\n  <thead>\n    <tr style=\"text-align: right;\">\n      <th></th>\n      <th>Date</th>\n      <th>Time</th>\n      <th>Global_active_power</th>\n      <th>Global_reactive_power</th>\n      <th>Voltage</th>\n      <th>Global_intensity</th>\n      <th>Sub_metering_1</th>\n      <th>Sub_metering_2</th>\n      <th>Sub_metering_3</th>\n    </tr>\n  </thead>\n  <tbody>\n    <tr>\n      <th>45</th>\n      <td>16/12/2006</td>\n      <td>18:09:00</td>\n      <td>4.464</td>\n      <td>0.136</td>\n      <td>234.660004</td>\n      <td>19.000000</td>\n      <td>0.0</td>\n      <td>37.0</td>\n      <td>16.0</td>\n    </tr>\n    <tr>\n      <th>460</th>\n      <td>17/12/2006</td>\n      <td>01:04:00</td>\n      <td>4.582</td>\n      <td>0.258</td>\n      <td>238.080002</td>\n      <td>19.600000</td>\n      <td>0.0</td>\n      <td>13.0</td>\n      <td>0.0</td>\n    </tr>\n    <tr>\n      <th>464</th>\n      <td>17/12/2006</td>\n      <td>01:08:00</td>\n      <td>4.618</td>\n      <td>0.104</td>\n      <td>239.610001</td>\n      <td>19.600000</td>\n      <td>0.0</td>\n      <td>27.0</td>\n      <td>0.0</td>\n    </tr>\n    <tr>\n      <th>475</th>\n      <td>17/12/2006</td>\n      <td>01:19:00</td>\n      <td>4.636</td>\n      <td>0.140</td>\n      <td>237.369995</td>\n      <td>19.400000</td>\n      <td>0.0</td>\n      <td>36.0</td>\n      <td>0.0</td>\n    </tr>\n    <tr>\n      <th>476</th>\n      <td>17/12/2006</td>\n      <td>01:20:00</td>\n      <td>4.634</td>\n      <td>0.152</td>\n      <td>237.169998</td>\n      <td>19.400000</td>\n      <td>0.0</td>\n      <td>35.0</td>\n      <td>0.0</td>\n    </tr>\n    <tr>\n      <th>...</th>\n      <td>...</td>\n      <td>...</td>\n      <td>...</td>\n      <td>...</td>\n      <td>...</td>\n      <td>...</td>\n      <td>...</td>\n      <td>...</td>\n      <td>...</td>\n    </tr>\n    <tr>\n      <th>2071589</th>\n      <td>24/11/2010</td>\n      <td>07:53:00</td>\n      <td>4.666</td>\n      <td>0.000</td>\n      <td>235.720001</td>\n      <td>19.799999</td>\n      <td>0.0</td>\n      <td>39.0</td>\n      <td>17.0</td>\n    </tr>\n    <tr>\n      <th>2071590</th>\n      <td>24/11/2010</td>\n      <td>07:54:00</td>\n      <td>4.694</td>\n      <td>0.000</td>\n      <td>236.779999</td>\n      <td>19.799999</td>\n      <td>0.0</td>\n      <td>39.0</td>\n      <td>18.0</td>\n    </tr>\n    <tr>\n      <th>2071591</th>\n      <td>24/11/2010</td>\n      <td>07:55:00</td>\n      <td>4.602</td>\n      <td>0.000</td>\n      <td>237.080002</td>\n      <td>19.400000</td>\n      <td>0.0</td>\n      <td>40.0</td>\n      <td>17.0</td>\n    </tr>\n    <tr>\n      <th>2071592</th>\n      <td>24/11/2010</td>\n      <td>07:56:00</td>\n      <td>4.536</td>\n      <td>0.000</td>\n      <td>237.029999</td>\n      <td>19.000000</td>\n      <td>0.0</td>\n      <td>39.0</td>\n      <td>17.0</td>\n    </tr>\n    <tr>\n      <th>2071593</th>\n      <td>24/11/2010</td>\n      <td>07:57:00</td>\n      <td>4.626</td>\n      <td>0.000</td>\n      <td>236.779999</td>\n      <td>19.400000</td>\n      <td>0.0</td>\n      <td>39.0</td>\n      <td>17.0</td>\n    </tr>\n  </tbody>\n</table>\n<p>2509 rows × 9 columns</p>\n</div>"
     },
     "metadata": {},
     "execution_count": 6
    }
   ],
   "source": [
    "%%time\n",
    "pandas_n3=clean_data[(clean_data.Global_intensity>=19)&(clean_data.Global_intensity<=20)]\n",
    "pandas_n3[pandas_n3.Sub_metering_2>pandas_n3.Sub_metering_3]"
   ]
  },
  {
   "cell_type": "markdown",
   "metadata": {},
   "source": [
    "## Task 4\n",
    "\n",
    "\n",
    "Randomly select 500,000 households\n",
    "(without repetitions of sampling elements), for them to calculate the average values ​​of all 3 groups of electricity consumption\n",
    "\n",
    "*Обрати випадковим чином 500000 домогосподарств  \n",
    "(без повторів елементів вибірки),   для них обчислити середні величини усіх 3-х груп споживання електричної енергії*"
   ]
  },
  {
   "cell_type": "code",
   "execution_count": 7,
   "metadata": {},
   "outputs": [
    {
     "output_type": "stream",
     "name": "stdout",
     "text": "Wall time: 113 ms\n"
    },
    {
     "output_type": "execute_result",
     "data": {
      "text/plain": "{'Sub_metering_1': 1.11512,\n 'Sub_metering_2': 1.28984,\n 'Sub_metering_3': 6.42966}"
     },
     "metadata": {},
     "execution_count": 7
    }
   ],
   "source": [
    "%%time\n",
    "pandas_n4=clean_data.sample(n = 50000, replace = False) \n",
    "pandas_n4.Sub_metering_1.mean()\n",
    "answer_dict={\n",
    "    \"Sub_metering_1\":pandas_n4.Sub_metering_1.mean(),\n",
    "    \"Sub_metering_2\":pandas_n4.Sub_metering_2.mean(),\n",
    "    \"Sub_metering_3\":pandas_n4.Sub_metering_3.mean()\n",
    "}\n",
    "answer_dict"
   ]
  },
  {
   "cell_type": "markdown",
   "metadata": {},
   "source": [
    "## Task 5 \n",
    "\n",
    "\n",
    "Select those lines that consume more than 6 in time> = 18-00\n",
    "kW per minute on average, among the selected identify those\n",
    "in which the main electricity consumption in the specified period of time falls on the washing machine, dryer, refrigerator and lighting\n",
    "(group 2 is the largest) and then select every third result from the first half and every fourth result from the second half.\n",
    " \n",
    "*Обрати ті рядки, які по часу >= 18-00 споживають понад 6  \n",
    "кВт за хвилину в середньому, серед відібраних визначити ті,  \n",
    "у яких основне споживання електроенергії у вказаний проміжок часу припадає на пральну машину, сушарку, холодильник та освітлення  \n",
    "(група 2 є найбільшою), а потім обрати кожен третій результат із першої половини та кожен четвертий результат із другої половини.* "
   ]
  },
  {
   "cell_type": "code",
   "execution_count": 8,
   "metadata": {},
   "outputs": [
    {
     "output_type": "stream",
     "name": "stdout",
     "text": "Wall time: 11 ms\n"
    },
    {
     "output_type": "execute_result",
     "data": {
      "text/plain": "               Date      Time  Global_active_power  Global_reactive_power  \\\n1643118   30/1/2010  18:42:00                6.814                  0.378   \n959213   12/10/2008  20:17:00                7.654                  0.192   \n34775      9/1/2007  20:59:00                8.104                  0.180   \n2066454  20/11/2010  18:18:00                7.158                  0.080   \n1204030   31/3/2009  20:34:00                6.682                  0.148   \n992415    4/11/2008  21:39:00                6.316                  0.194   \n31732      7/1/2007  18:16:00                7.770                  0.556   \n641089     5/3/2008  22:13:00                6.204                  0.232   \n2020358  19/10/2010  18:02:00                6.338                  0.246   \n777863     8/6/2008  21:47:00                6.956                  0.150   \n31724      7/1/2007  18:08:00                6.740                  0.000   \n1723760   27/3/2010  18:44:00                6.896                  0.230   \n777858     8/6/2008  21:42:00                6.474                  0.136   \n541716   27/12/2007  22:00:00                6.972                  0.000   \n50519     20/1/2007  19:23:00                7.602                  0.374   \n135629    20/3/2007  21:53:00                6.550                  0.232   \n992408    4/11/2008  21:32:00                6.844                  0.252   \n2066488  20/11/2010  18:52:00                6.364                  0.126   \n1152282   23/2/2009  22:06:00                7.120                  0.214   \n19023    29/12/2006  22:27:00                6.976                  0.376   \n1533682  15/11/2009  18:46:00                6.926                  0.370   \n2066467  20/11/2010  18:31:00                6.830                  0.394   \n1204034   31/3/2009  20:38:00                6.444                  0.000   \n1150730   22/2/2009  20:14:00                6.524                  0.182   \n832540    16/7/2008  21:04:00                6.382                  0.324   \n515628    9/12/2007  19:12:00                6.166                  0.172   \n535832   23/12/2007  19:56:00                6.124                  0.382   \n1183860   17/3/2009  20:24:00                7.864                  0.000   \n152725     1/4/2007  18:49:00                6.380                  0.272   \n1398396   13/8/2009  20:00:00                6.706                  0.296   \n1643213   30/1/2010  20:17:00                6.914                  0.572   \n\n            Voltage  Global_intensity  Sub_metering_1  Sub_metering_2  \\\n1643118  235.080002         29.000000            36.0            38.0   \n959213   229.869995         33.200001             0.0            70.0   \n34775    233.160004         34.799999             0.0            71.0   \n2066454  229.729996         31.000000             0.0            68.0   \n1204030  232.770004         28.600000             0.0            70.0   \n992415   235.940002         26.600000             0.0            73.0   \n31732    230.789993         33.599998             0.0            37.0   \n641089   234.289993         26.400000             1.0            37.0   \n2020358  234.089996         27.200001             0.0            69.0   \n777863   235.320007         29.400000             0.0            73.0   \n31724    230.779999         29.200001             0.0            70.0   \n1723760  231.869995         29.600000             0.0            70.0   \n777858   235.899994         27.600000             0.0            64.0   \n541716   231.350006         30.200001            31.0            34.0   \n50519    228.070007         33.400002             0.0            21.0   \n135629   233.949997         28.000000             1.0            37.0   \n992408   234.220001         29.200001             0.0            72.0   \n2066488  229.380005         28.200001            17.0            34.0   \n1152282  233.279999         30.400000             2.0            70.0   \n19023    235.119995         29.600000             0.0            74.0   \n1533682  230.639999         30.000000             0.0            69.0   \n2066467  229.389999         30.200001            24.0            34.0   \n1204034  233.250000         27.600000             0.0            71.0   \n1150730  236.369995         27.600000             0.0            73.0   \n832540   235.419998         27.000000             0.0            73.0   \n515628   229.850006         26.799999             0.0            34.0   \n535832   234.270004         26.200001             0.0            38.0   \n1183860  237.029999         33.200001             0.0            72.0   \n152725   232.710007         27.400000             0.0            72.0   \n1398396  235.809998         29.000000            32.0            37.0   \n1643213  234.740005         29.600000             0.0            36.0   \n\n         Sub_metering_3  \n1643118            18.0  \n959213             17.0  \n34775              17.0  \n2066454            16.0  \n1204030            17.0  \n992415             17.0  \n31732              16.0  \n641089             17.0  \n2020358            17.0  \n777863             17.0  \n31724              16.0  \n1723760            27.0  \n777858             18.0  \n541716             17.0  \n50519              16.0  \n135629             17.0  \n992408             17.0  \n2066488            16.0  \n1152282            17.0  \n19023              17.0  \n1533682            17.0  \n2066467            16.0  \n1204034            17.0  \n1150730            17.0  \n832540             18.0  \n515628             17.0  \n535832             17.0  \n1183860            17.0  \n152725             17.0  \n1398396            18.0  \n1643213            18.0  ",
      "text/html": "<div>\n<style scoped>\n    .dataframe tbody tr th:only-of-type {\n        vertical-align: middle;\n    }\n\n    .dataframe tbody tr th {\n        vertical-align: top;\n    }\n\n    .dataframe thead th {\n        text-align: right;\n    }\n</style>\n<table border=\"1\" class=\"dataframe\">\n  <thead>\n    <tr style=\"text-align: right;\">\n      <th></th>\n      <th>Date</th>\n      <th>Time</th>\n      <th>Global_active_power</th>\n      <th>Global_reactive_power</th>\n      <th>Voltage</th>\n      <th>Global_intensity</th>\n      <th>Sub_metering_1</th>\n      <th>Sub_metering_2</th>\n      <th>Sub_metering_3</th>\n    </tr>\n  </thead>\n  <tbody>\n    <tr>\n      <th>1643118</th>\n      <td>30/1/2010</td>\n      <td>18:42:00</td>\n      <td>6.814</td>\n      <td>0.378</td>\n      <td>235.080002</td>\n      <td>29.000000</td>\n      <td>36.0</td>\n      <td>38.0</td>\n      <td>18.0</td>\n    </tr>\n    <tr>\n      <th>959213</th>\n      <td>12/10/2008</td>\n      <td>20:17:00</td>\n      <td>7.654</td>\n      <td>0.192</td>\n      <td>229.869995</td>\n      <td>33.200001</td>\n      <td>0.0</td>\n      <td>70.0</td>\n      <td>17.0</td>\n    </tr>\n    <tr>\n      <th>34775</th>\n      <td>9/1/2007</td>\n      <td>20:59:00</td>\n      <td>8.104</td>\n      <td>0.180</td>\n      <td>233.160004</td>\n      <td>34.799999</td>\n      <td>0.0</td>\n      <td>71.0</td>\n      <td>17.0</td>\n    </tr>\n    <tr>\n      <th>2066454</th>\n      <td>20/11/2010</td>\n      <td>18:18:00</td>\n      <td>7.158</td>\n      <td>0.080</td>\n      <td>229.729996</td>\n      <td>31.000000</td>\n      <td>0.0</td>\n      <td>68.0</td>\n      <td>16.0</td>\n    </tr>\n    <tr>\n      <th>1204030</th>\n      <td>31/3/2009</td>\n      <td>20:34:00</td>\n      <td>6.682</td>\n      <td>0.148</td>\n      <td>232.770004</td>\n      <td>28.600000</td>\n      <td>0.0</td>\n      <td>70.0</td>\n      <td>17.0</td>\n    </tr>\n    <tr>\n      <th>992415</th>\n      <td>4/11/2008</td>\n      <td>21:39:00</td>\n      <td>6.316</td>\n      <td>0.194</td>\n      <td>235.940002</td>\n      <td>26.600000</td>\n      <td>0.0</td>\n      <td>73.0</td>\n      <td>17.0</td>\n    </tr>\n    <tr>\n      <th>31732</th>\n      <td>7/1/2007</td>\n      <td>18:16:00</td>\n      <td>7.770</td>\n      <td>0.556</td>\n      <td>230.789993</td>\n      <td>33.599998</td>\n      <td>0.0</td>\n      <td>37.0</td>\n      <td>16.0</td>\n    </tr>\n    <tr>\n      <th>641089</th>\n      <td>5/3/2008</td>\n      <td>22:13:00</td>\n      <td>6.204</td>\n      <td>0.232</td>\n      <td>234.289993</td>\n      <td>26.400000</td>\n      <td>1.0</td>\n      <td>37.0</td>\n      <td>17.0</td>\n    </tr>\n    <tr>\n      <th>2020358</th>\n      <td>19/10/2010</td>\n      <td>18:02:00</td>\n      <td>6.338</td>\n      <td>0.246</td>\n      <td>234.089996</td>\n      <td>27.200001</td>\n      <td>0.0</td>\n      <td>69.0</td>\n      <td>17.0</td>\n    </tr>\n    <tr>\n      <th>777863</th>\n      <td>8/6/2008</td>\n      <td>21:47:00</td>\n      <td>6.956</td>\n      <td>0.150</td>\n      <td>235.320007</td>\n      <td>29.400000</td>\n      <td>0.0</td>\n      <td>73.0</td>\n      <td>17.0</td>\n    </tr>\n    <tr>\n      <th>31724</th>\n      <td>7/1/2007</td>\n      <td>18:08:00</td>\n      <td>6.740</td>\n      <td>0.000</td>\n      <td>230.779999</td>\n      <td>29.200001</td>\n      <td>0.0</td>\n      <td>70.0</td>\n      <td>16.0</td>\n    </tr>\n    <tr>\n      <th>1723760</th>\n      <td>27/3/2010</td>\n      <td>18:44:00</td>\n      <td>6.896</td>\n      <td>0.230</td>\n      <td>231.869995</td>\n      <td>29.600000</td>\n      <td>0.0</td>\n      <td>70.0</td>\n      <td>27.0</td>\n    </tr>\n    <tr>\n      <th>777858</th>\n      <td>8/6/2008</td>\n      <td>21:42:00</td>\n      <td>6.474</td>\n      <td>0.136</td>\n      <td>235.899994</td>\n      <td>27.600000</td>\n      <td>0.0</td>\n      <td>64.0</td>\n      <td>18.0</td>\n    </tr>\n    <tr>\n      <th>541716</th>\n      <td>27/12/2007</td>\n      <td>22:00:00</td>\n      <td>6.972</td>\n      <td>0.000</td>\n      <td>231.350006</td>\n      <td>30.200001</td>\n      <td>31.0</td>\n      <td>34.0</td>\n      <td>17.0</td>\n    </tr>\n    <tr>\n      <th>50519</th>\n      <td>20/1/2007</td>\n      <td>19:23:00</td>\n      <td>7.602</td>\n      <td>0.374</td>\n      <td>228.070007</td>\n      <td>33.400002</td>\n      <td>0.0</td>\n      <td>21.0</td>\n      <td>16.0</td>\n    </tr>\n    <tr>\n      <th>135629</th>\n      <td>20/3/2007</td>\n      <td>21:53:00</td>\n      <td>6.550</td>\n      <td>0.232</td>\n      <td>233.949997</td>\n      <td>28.000000</td>\n      <td>1.0</td>\n      <td>37.0</td>\n      <td>17.0</td>\n    </tr>\n    <tr>\n      <th>992408</th>\n      <td>4/11/2008</td>\n      <td>21:32:00</td>\n      <td>6.844</td>\n      <td>0.252</td>\n      <td>234.220001</td>\n      <td>29.200001</td>\n      <td>0.0</td>\n      <td>72.0</td>\n      <td>17.0</td>\n    </tr>\n    <tr>\n      <th>2066488</th>\n      <td>20/11/2010</td>\n      <td>18:52:00</td>\n      <td>6.364</td>\n      <td>0.126</td>\n      <td>229.380005</td>\n      <td>28.200001</td>\n      <td>17.0</td>\n      <td>34.0</td>\n      <td>16.0</td>\n    </tr>\n    <tr>\n      <th>1152282</th>\n      <td>23/2/2009</td>\n      <td>22:06:00</td>\n      <td>7.120</td>\n      <td>0.214</td>\n      <td>233.279999</td>\n      <td>30.400000</td>\n      <td>2.0</td>\n      <td>70.0</td>\n      <td>17.0</td>\n    </tr>\n    <tr>\n      <th>19023</th>\n      <td>29/12/2006</td>\n      <td>22:27:00</td>\n      <td>6.976</td>\n      <td>0.376</td>\n      <td>235.119995</td>\n      <td>29.600000</td>\n      <td>0.0</td>\n      <td>74.0</td>\n      <td>17.0</td>\n    </tr>\n    <tr>\n      <th>1533682</th>\n      <td>15/11/2009</td>\n      <td>18:46:00</td>\n      <td>6.926</td>\n      <td>0.370</td>\n      <td>230.639999</td>\n      <td>30.000000</td>\n      <td>0.0</td>\n      <td>69.0</td>\n      <td>17.0</td>\n    </tr>\n    <tr>\n      <th>2066467</th>\n      <td>20/11/2010</td>\n      <td>18:31:00</td>\n      <td>6.830</td>\n      <td>0.394</td>\n      <td>229.389999</td>\n      <td>30.200001</td>\n      <td>24.0</td>\n      <td>34.0</td>\n      <td>16.0</td>\n    </tr>\n    <tr>\n      <th>1204034</th>\n      <td>31/3/2009</td>\n      <td>20:38:00</td>\n      <td>6.444</td>\n      <td>0.000</td>\n      <td>233.250000</td>\n      <td>27.600000</td>\n      <td>0.0</td>\n      <td>71.0</td>\n      <td>17.0</td>\n    </tr>\n    <tr>\n      <th>1150730</th>\n      <td>22/2/2009</td>\n      <td>20:14:00</td>\n      <td>6.524</td>\n      <td>0.182</td>\n      <td>236.369995</td>\n      <td>27.600000</td>\n      <td>0.0</td>\n      <td>73.0</td>\n      <td>17.0</td>\n    </tr>\n    <tr>\n      <th>832540</th>\n      <td>16/7/2008</td>\n      <td>21:04:00</td>\n      <td>6.382</td>\n      <td>0.324</td>\n      <td>235.419998</td>\n      <td>27.000000</td>\n      <td>0.0</td>\n      <td>73.0</td>\n      <td>18.0</td>\n    </tr>\n    <tr>\n      <th>515628</th>\n      <td>9/12/2007</td>\n      <td>19:12:00</td>\n      <td>6.166</td>\n      <td>0.172</td>\n      <td>229.850006</td>\n      <td>26.799999</td>\n      <td>0.0</td>\n      <td>34.0</td>\n      <td>17.0</td>\n    </tr>\n    <tr>\n      <th>535832</th>\n      <td>23/12/2007</td>\n      <td>19:56:00</td>\n      <td>6.124</td>\n      <td>0.382</td>\n      <td>234.270004</td>\n      <td>26.200001</td>\n      <td>0.0</td>\n      <td>38.0</td>\n      <td>17.0</td>\n    </tr>\n    <tr>\n      <th>1183860</th>\n      <td>17/3/2009</td>\n      <td>20:24:00</td>\n      <td>7.864</td>\n      <td>0.000</td>\n      <td>237.029999</td>\n      <td>33.200001</td>\n      <td>0.0</td>\n      <td>72.0</td>\n      <td>17.0</td>\n    </tr>\n    <tr>\n      <th>152725</th>\n      <td>1/4/2007</td>\n      <td>18:49:00</td>\n      <td>6.380</td>\n      <td>0.272</td>\n      <td>232.710007</td>\n      <td>27.400000</td>\n      <td>0.0</td>\n      <td>72.0</td>\n      <td>17.0</td>\n    </tr>\n    <tr>\n      <th>1398396</th>\n      <td>13/8/2009</td>\n      <td>20:00:00</td>\n      <td>6.706</td>\n      <td>0.296</td>\n      <td>235.809998</td>\n      <td>29.000000</td>\n      <td>32.0</td>\n      <td>37.0</td>\n      <td>18.0</td>\n    </tr>\n    <tr>\n      <th>1643213</th>\n      <td>30/1/2010</td>\n      <td>20:17:00</td>\n      <td>6.914</td>\n      <td>0.572</td>\n      <td>234.740005</td>\n      <td>29.600000</td>\n      <td>0.0</td>\n      <td>36.0</td>\n      <td>18.0</td>\n    </tr>\n  </tbody>\n</table>\n</div>"
     },
     "metadata": {},
     "execution_count": 8
    }
   ],
   "source": [
    "%%time\n",
    "n5=pandas_n4[(pandas_n4.Time>=\"18:00:00\")&(pandas_n4.Global_active_power>6)]\n",
    "n5_5 =n5[(n5.Sub_metering_2>n5.Sub_metering_1)&(n5.Sub_metering_2>n5.Sub_metering_3)]\n",
    "n5_5"
   ]
  },
  {
   "cell_type": "code",
   "execution_count": 9,
   "metadata": {},
   "outputs": [
    {
     "output_type": "execute_result",
     "data": {
      "text/plain": "               Date      Time  Global_active_power  Global_reactive_power  \\\n19023    29/12/2006  22:27:00                6.976                  0.376   \n31724      7/1/2007  18:08:00                6.740                  0.000   \n31732      7/1/2007  18:16:00                7.770                  0.556   \n34775      9/1/2007  20:59:00                8.104                  0.180   \n50519     20/1/2007  19:23:00                7.602                  0.374   \n135629    20/3/2007  21:53:00                6.550                  0.232   \n152725     1/4/2007  18:49:00                6.380                  0.272   \n515628    9/12/2007  19:12:00                6.166                  0.172   \n535832   23/12/2007  19:56:00                6.124                  0.382   \n541716   27/12/2007  22:00:00                6.972                  0.000   \n641089     5/3/2008  22:13:00                6.204                  0.232   \n777858     8/6/2008  21:42:00                6.474                  0.136   \n777863     8/6/2008  21:47:00                6.956                  0.150   \n832540    16/7/2008  21:04:00                6.382                  0.324   \n959213   12/10/2008  20:17:00                7.654                  0.192   \n992408    4/11/2008  21:32:00                6.844                  0.252   \n992415    4/11/2008  21:39:00                6.316                  0.194   \n1150730   22/2/2009  20:14:00                6.524                  0.182   \n1152282   23/2/2009  22:06:00                7.120                  0.214   \n1183860   17/3/2009  20:24:00                7.864                  0.000   \n1204030   31/3/2009  20:34:00                6.682                  0.148   \n1204034   31/3/2009  20:38:00                6.444                  0.000   \n1398396   13/8/2009  20:00:00                6.706                  0.296   \n1533682  15/11/2009  18:46:00                6.926                  0.370   \n1643118   30/1/2010  18:42:00                6.814                  0.378   \n1643213   30/1/2010  20:17:00                6.914                  0.572   \n1723760   27/3/2010  18:44:00                6.896                  0.230   \n2020358  19/10/2010  18:02:00                6.338                  0.246   \n2066454  20/11/2010  18:18:00                7.158                  0.080   \n2066467  20/11/2010  18:31:00                6.830                  0.394   \n2066488  20/11/2010  18:52:00                6.364                  0.126   \n\n            Voltage  Global_intensity  Sub_metering_1  Sub_metering_2  \\\n19023    235.119995         29.600000             0.0            74.0   \n31724    230.779999         29.200001             0.0            70.0   \n31732    230.789993         33.599998             0.0            37.0   \n34775    233.160004         34.799999             0.0            71.0   \n50519    228.070007         33.400002             0.0            21.0   \n135629   233.949997         28.000000             1.0            37.0   \n152725   232.710007         27.400000             0.0            72.0   \n515628   229.850006         26.799999             0.0            34.0   \n535832   234.270004         26.200001             0.0            38.0   \n541716   231.350006         30.200001            31.0            34.0   \n641089   234.289993         26.400000             1.0            37.0   \n777858   235.899994         27.600000             0.0            64.0   \n777863   235.320007         29.400000             0.0            73.0   \n832540   235.419998         27.000000             0.0            73.0   \n959213   229.869995         33.200001             0.0            70.0   \n992408   234.220001         29.200001             0.0            72.0   \n992415   235.940002         26.600000             0.0            73.0   \n1150730  236.369995         27.600000             0.0            73.0   \n1152282  233.279999         30.400000             2.0            70.0   \n1183860  237.029999         33.200001             0.0            72.0   \n1204030  232.770004         28.600000             0.0            70.0   \n1204034  233.250000         27.600000             0.0            71.0   \n1398396  235.809998         29.000000            32.0            37.0   \n1533682  230.639999         30.000000             0.0            69.0   \n1643118  235.080002         29.000000            36.0            38.0   \n1643213  234.740005         29.600000             0.0            36.0   \n1723760  231.869995         29.600000             0.0            70.0   \n2020358  234.089996         27.200001             0.0            69.0   \n2066454  229.729996         31.000000             0.0            68.0   \n2066467  229.389999         30.200001            24.0            34.0   \n2066488  229.380005         28.200001            17.0            34.0   \n\n         Sub_metering_3  \n19023              17.0  \n31724              16.0  \n31732              16.0  \n34775              17.0  \n50519              16.0  \n135629             17.0  \n152725             17.0  \n515628             17.0  \n535832             17.0  \n541716             17.0  \n641089             17.0  \n777858             18.0  \n777863             17.0  \n832540             18.0  \n959213             17.0  \n992408             17.0  \n992415             17.0  \n1150730            17.0  \n1152282            17.0  \n1183860            17.0  \n1204030            17.0  \n1204034            17.0  \n1398396            18.0  \n1533682            17.0  \n1643118            18.0  \n1643213            18.0  \n1723760            27.0  \n2020358            17.0  \n2066454            16.0  \n2066467            16.0  \n2066488            16.0  ",
      "text/html": "<div>\n<style scoped>\n    .dataframe tbody tr th:only-of-type {\n        vertical-align: middle;\n    }\n\n    .dataframe tbody tr th {\n        vertical-align: top;\n    }\n\n    .dataframe thead th {\n        text-align: right;\n    }\n</style>\n<table border=\"1\" class=\"dataframe\">\n  <thead>\n    <tr style=\"text-align: right;\">\n      <th></th>\n      <th>Date</th>\n      <th>Time</th>\n      <th>Global_active_power</th>\n      <th>Global_reactive_power</th>\n      <th>Voltage</th>\n      <th>Global_intensity</th>\n      <th>Sub_metering_1</th>\n      <th>Sub_metering_2</th>\n      <th>Sub_metering_3</th>\n    </tr>\n  </thead>\n  <tbody>\n    <tr>\n      <th>19023</th>\n      <td>29/12/2006</td>\n      <td>22:27:00</td>\n      <td>6.976</td>\n      <td>0.376</td>\n      <td>235.119995</td>\n      <td>29.600000</td>\n      <td>0.0</td>\n      <td>74.0</td>\n      <td>17.0</td>\n    </tr>\n    <tr>\n      <th>31724</th>\n      <td>7/1/2007</td>\n      <td>18:08:00</td>\n      <td>6.740</td>\n      <td>0.000</td>\n      <td>230.779999</td>\n      <td>29.200001</td>\n      <td>0.0</td>\n      <td>70.0</td>\n      <td>16.0</td>\n    </tr>\n    <tr>\n      <th>31732</th>\n      <td>7/1/2007</td>\n      <td>18:16:00</td>\n      <td>7.770</td>\n      <td>0.556</td>\n      <td>230.789993</td>\n      <td>33.599998</td>\n      <td>0.0</td>\n      <td>37.0</td>\n      <td>16.0</td>\n    </tr>\n    <tr>\n      <th>34775</th>\n      <td>9/1/2007</td>\n      <td>20:59:00</td>\n      <td>8.104</td>\n      <td>0.180</td>\n      <td>233.160004</td>\n      <td>34.799999</td>\n      <td>0.0</td>\n      <td>71.0</td>\n      <td>17.0</td>\n    </tr>\n    <tr>\n      <th>50519</th>\n      <td>20/1/2007</td>\n      <td>19:23:00</td>\n      <td>7.602</td>\n      <td>0.374</td>\n      <td>228.070007</td>\n      <td>33.400002</td>\n      <td>0.0</td>\n      <td>21.0</td>\n      <td>16.0</td>\n    </tr>\n    <tr>\n      <th>135629</th>\n      <td>20/3/2007</td>\n      <td>21:53:00</td>\n      <td>6.550</td>\n      <td>0.232</td>\n      <td>233.949997</td>\n      <td>28.000000</td>\n      <td>1.0</td>\n      <td>37.0</td>\n      <td>17.0</td>\n    </tr>\n    <tr>\n      <th>152725</th>\n      <td>1/4/2007</td>\n      <td>18:49:00</td>\n      <td>6.380</td>\n      <td>0.272</td>\n      <td>232.710007</td>\n      <td>27.400000</td>\n      <td>0.0</td>\n      <td>72.0</td>\n      <td>17.0</td>\n    </tr>\n    <tr>\n      <th>515628</th>\n      <td>9/12/2007</td>\n      <td>19:12:00</td>\n      <td>6.166</td>\n      <td>0.172</td>\n      <td>229.850006</td>\n      <td>26.799999</td>\n      <td>0.0</td>\n      <td>34.0</td>\n      <td>17.0</td>\n    </tr>\n    <tr>\n      <th>535832</th>\n      <td>23/12/2007</td>\n      <td>19:56:00</td>\n      <td>6.124</td>\n      <td>0.382</td>\n      <td>234.270004</td>\n      <td>26.200001</td>\n      <td>0.0</td>\n      <td>38.0</td>\n      <td>17.0</td>\n    </tr>\n    <tr>\n      <th>541716</th>\n      <td>27/12/2007</td>\n      <td>22:00:00</td>\n      <td>6.972</td>\n      <td>0.000</td>\n      <td>231.350006</td>\n      <td>30.200001</td>\n      <td>31.0</td>\n      <td>34.0</td>\n      <td>17.0</td>\n    </tr>\n    <tr>\n      <th>641089</th>\n      <td>5/3/2008</td>\n      <td>22:13:00</td>\n      <td>6.204</td>\n      <td>0.232</td>\n      <td>234.289993</td>\n      <td>26.400000</td>\n      <td>1.0</td>\n      <td>37.0</td>\n      <td>17.0</td>\n    </tr>\n    <tr>\n      <th>777858</th>\n      <td>8/6/2008</td>\n      <td>21:42:00</td>\n      <td>6.474</td>\n      <td>0.136</td>\n      <td>235.899994</td>\n      <td>27.600000</td>\n      <td>0.0</td>\n      <td>64.0</td>\n      <td>18.0</td>\n    </tr>\n    <tr>\n      <th>777863</th>\n      <td>8/6/2008</td>\n      <td>21:47:00</td>\n      <td>6.956</td>\n      <td>0.150</td>\n      <td>235.320007</td>\n      <td>29.400000</td>\n      <td>0.0</td>\n      <td>73.0</td>\n      <td>17.0</td>\n    </tr>\n    <tr>\n      <th>832540</th>\n      <td>16/7/2008</td>\n      <td>21:04:00</td>\n      <td>6.382</td>\n      <td>0.324</td>\n      <td>235.419998</td>\n      <td>27.000000</td>\n      <td>0.0</td>\n      <td>73.0</td>\n      <td>18.0</td>\n    </tr>\n    <tr>\n      <th>959213</th>\n      <td>12/10/2008</td>\n      <td>20:17:00</td>\n      <td>7.654</td>\n      <td>0.192</td>\n      <td>229.869995</td>\n      <td>33.200001</td>\n      <td>0.0</td>\n      <td>70.0</td>\n      <td>17.0</td>\n    </tr>\n    <tr>\n      <th>992408</th>\n      <td>4/11/2008</td>\n      <td>21:32:00</td>\n      <td>6.844</td>\n      <td>0.252</td>\n      <td>234.220001</td>\n      <td>29.200001</td>\n      <td>0.0</td>\n      <td>72.0</td>\n      <td>17.0</td>\n    </tr>\n    <tr>\n      <th>992415</th>\n      <td>4/11/2008</td>\n      <td>21:39:00</td>\n      <td>6.316</td>\n      <td>0.194</td>\n      <td>235.940002</td>\n      <td>26.600000</td>\n      <td>0.0</td>\n      <td>73.0</td>\n      <td>17.0</td>\n    </tr>\n    <tr>\n      <th>1150730</th>\n      <td>22/2/2009</td>\n      <td>20:14:00</td>\n      <td>6.524</td>\n      <td>0.182</td>\n      <td>236.369995</td>\n      <td>27.600000</td>\n      <td>0.0</td>\n      <td>73.0</td>\n      <td>17.0</td>\n    </tr>\n    <tr>\n      <th>1152282</th>\n      <td>23/2/2009</td>\n      <td>22:06:00</td>\n      <td>7.120</td>\n      <td>0.214</td>\n      <td>233.279999</td>\n      <td>30.400000</td>\n      <td>2.0</td>\n      <td>70.0</td>\n      <td>17.0</td>\n    </tr>\n    <tr>\n      <th>1183860</th>\n      <td>17/3/2009</td>\n      <td>20:24:00</td>\n      <td>7.864</td>\n      <td>0.000</td>\n      <td>237.029999</td>\n      <td>33.200001</td>\n      <td>0.0</td>\n      <td>72.0</td>\n      <td>17.0</td>\n    </tr>\n    <tr>\n      <th>1204030</th>\n      <td>31/3/2009</td>\n      <td>20:34:00</td>\n      <td>6.682</td>\n      <td>0.148</td>\n      <td>232.770004</td>\n      <td>28.600000</td>\n      <td>0.0</td>\n      <td>70.0</td>\n      <td>17.0</td>\n    </tr>\n    <tr>\n      <th>1204034</th>\n      <td>31/3/2009</td>\n      <td>20:38:00</td>\n      <td>6.444</td>\n      <td>0.000</td>\n      <td>233.250000</td>\n      <td>27.600000</td>\n      <td>0.0</td>\n      <td>71.0</td>\n      <td>17.0</td>\n    </tr>\n    <tr>\n      <th>1398396</th>\n      <td>13/8/2009</td>\n      <td>20:00:00</td>\n      <td>6.706</td>\n      <td>0.296</td>\n      <td>235.809998</td>\n      <td>29.000000</td>\n      <td>32.0</td>\n      <td>37.0</td>\n      <td>18.0</td>\n    </tr>\n    <tr>\n      <th>1533682</th>\n      <td>15/11/2009</td>\n      <td>18:46:00</td>\n      <td>6.926</td>\n      <td>0.370</td>\n      <td>230.639999</td>\n      <td>30.000000</td>\n      <td>0.0</td>\n      <td>69.0</td>\n      <td>17.0</td>\n    </tr>\n    <tr>\n      <th>1643118</th>\n      <td>30/1/2010</td>\n      <td>18:42:00</td>\n      <td>6.814</td>\n      <td>0.378</td>\n      <td>235.080002</td>\n      <td>29.000000</td>\n      <td>36.0</td>\n      <td>38.0</td>\n      <td>18.0</td>\n    </tr>\n    <tr>\n      <th>1643213</th>\n      <td>30/1/2010</td>\n      <td>20:17:00</td>\n      <td>6.914</td>\n      <td>0.572</td>\n      <td>234.740005</td>\n      <td>29.600000</td>\n      <td>0.0</td>\n      <td>36.0</td>\n      <td>18.0</td>\n    </tr>\n    <tr>\n      <th>1723760</th>\n      <td>27/3/2010</td>\n      <td>18:44:00</td>\n      <td>6.896</td>\n      <td>0.230</td>\n      <td>231.869995</td>\n      <td>29.600000</td>\n      <td>0.0</td>\n      <td>70.0</td>\n      <td>27.0</td>\n    </tr>\n    <tr>\n      <th>2020358</th>\n      <td>19/10/2010</td>\n      <td>18:02:00</td>\n      <td>6.338</td>\n      <td>0.246</td>\n      <td>234.089996</td>\n      <td>27.200001</td>\n      <td>0.0</td>\n      <td>69.0</td>\n      <td>17.0</td>\n    </tr>\n    <tr>\n      <th>2066454</th>\n      <td>20/11/2010</td>\n      <td>18:18:00</td>\n      <td>7.158</td>\n      <td>0.080</td>\n      <td>229.729996</td>\n      <td>31.000000</td>\n      <td>0.0</td>\n      <td>68.0</td>\n      <td>16.0</td>\n    </tr>\n    <tr>\n      <th>2066467</th>\n      <td>20/11/2010</td>\n      <td>18:31:00</td>\n      <td>6.830</td>\n      <td>0.394</td>\n      <td>229.389999</td>\n      <td>30.200001</td>\n      <td>24.0</td>\n      <td>34.0</td>\n      <td>16.0</td>\n    </tr>\n    <tr>\n      <th>2066488</th>\n      <td>20/11/2010</td>\n      <td>18:52:00</td>\n      <td>6.364</td>\n      <td>0.126</td>\n      <td>229.380005</td>\n      <td>28.200001</td>\n      <td>17.0</td>\n      <td>34.0</td>\n      <td>16.0</td>\n    </tr>\n  </tbody>\n</table>\n</div>"
     },
     "metadata": {},
     "execution_count": 9
    }
   ],
   "source": [
    "n5_5.sort_index(inplace=True)\n",
    "n5_5"
   ]
  },
  {
   "cell_type": "code",
   "execution_count": 14,
   "metadata": {},
   "outputs": [
    {
     "output_type": "stream",
     "name": "stdout",
     "text": "Wall time: 0 ns\n"
    }
   ],
   "source": [
    "%%time\n",
    "def from_head_to_middle_step_3(df:pd.DataFrame):\n",
    "    return df.iloc[:int(len(df)/2):3] \n",
    "\n",
    "def from_middle_to_tail_step_4(df:pd.DataFrame):\n",
    "    return df.iloc[int(len(df)/2)::4]\n",
    "\n",
    "\n"
   ]
  },
  {
   "cell_type": "code",
   "execution_count": 11,
   "metadata": {},
   "outputs": [
    {
     "output_type": "stream",
     "name": "stdout",
     "text": "Wall time: 1.01 ms\n"
    },
    {
     "output_type": "execute_result",
     "data": {
      "text/plain": "              Date      Time  Global_active_power  Global_reactive_power  \\\n19023   29/12/2006  22:27:00                6.976                  0.376   \n34775     9/1/2007  20:59:00                8.104                  0.180   \n152725    1/4/2007  18:49:00                6.380                  0.272   \n541716  27/12/2007  22:00:00                6.972                  0.000   \n777863    8/6/2008  21:47:00                6.956                  0.150   \n\n           Voltage  Global_intensity  Sub_metering_1  Sub_metering_2  \\\n19023   235.119995         29.600000             0.0            74.0   \n34775   233.160004         34.799999             0.0            71.0   \n152725  232.710007         27.400000             0.0            72.0   \n541716  231.350006         30.200001            31.0            34.0   \n777863  235.320007         29.400000             0.0            73.0   \n\n        Sub_metering_3  \n19023             17.0  \n34775             17.0  \n152725            17.0  \n541716            17.0  \n777863            17.0  ",
      "text/html": "<div>\n<style scoped>\n    .dataframe tbody tr th:only-of-type {\n        vertical-align: middle;\n    }\n\n    .dataframe tbody tr th {\n        vertical-align: top;\n    }\n\n    .dataframe thead th {\n        text-align: right;\n    }\n</style>\n<table border=\"1\" class=\"dataframe\">\n  <thead>\n    <tr style=\"text-align: right;\">\n      <th></th>\n      <th>Date</th>\n      <th>Time</th>\n      <th>Global_active_power</th>\n      <th>Global_reactive_power</th>\n      <th>Voltage</th>\n      <th>Global_intensity</th>\n      <th>Sub_metering_1</th>\n      <th>Sub_metering_2</th>\n      <th>Sub_metering_3</th>\n    </tr>\n  </thead>\n  <tbody>\n    <tr>\n      <th>19023</th>\n      <td>29/12/2006</td>\n      <td>22:27:00</td>\n      <td>6.976</td>\n      <td>0.376</td>\n      <td>235.119995</td>\n      <td>29.600000</td>\n      <td>0.0</td>\n      <td>74.0</td>\n      <td>17.0</td>\n    </tr>\n    <tr>\n      <th>34775</th>\n      <td>9/1/2007</td>\n      <td>20:59:00</td>\n      <td>8.104</td>\n      <td>0.180</td>\n      <td>233.160004</td>\n      <td>34.799999</td>\n      <td>0.0</td>\n      <td>71.0</td>\n      <td>17.0</td>\n    </tr>\n    <tr>\n      <th>152725</th>\n      <td>1/4/2007</td>\n      <td>18:49:00</td>\n      <td>6.380</td>\n      <td>0.272</td>\n      <td>232.710007</td>\n      <td>27.400000</td>\n      <td>0.0</td>\n      <td>72.0</td>\n      <td>17.0</td>\n    </tr>\n    <tr>\n      <th>541716</th>\n      <td>27/12/2007</td>\n      <td>22:00:00</td>\n      <td>6.972</td>\n      <td>0.000</td>\n      <td>231.350006</td>\n      <td>30.200001</td>\n      <td>31.0</td>\n      <td>34.0</td>\n      <td>17.0</td>\n    </tr>\n    <tr>\n      <th>777863</th>\n      <td>8/6/2008</td>\n      <td>21:47:00</td>\n      <td>6.956</td>\n      <td>0.150</td>\n      <td>235.320007</td>\n      <td>29.400000</td>\n      <td>0.0</td>\n      <td>73.0</td>\n      <td>17.0</td>\n    </tr>\n  </tbody>\n</table>\n</div>"
     },
     "metadata": {},
     "execution_count": 11
    }
   ],
   "source": [
    "%%time\n",
    "from_head_to_middle_step_3(n5_5)"
   ]
  },
  {
   "cell_type": "code",
   "execution_count": 15,
   "metadata": {},
   "outputs": [
    {
     "output_type": "stream",
     "name": "stdout",
     "text": "Wall time: 1 ms\n"
    },
    {
     "output_type": "execute_result",
     "data": {
      "text/plain": "               Date      Time  Global_active_power  Global_reactive_power  \\\n992408    4/11/2008  21:32:00                6.844                  0.252   \n1183860   17/3/2009  20:24:00                7.864                  0.000   \n1533682  15/11/2009  18:46:00                6.926                  0.370   \n2020358  19/10/2010  18:02:00                6.338                  0.246   \n\n            Voltage  Global_intensity  Sub_metering_1  Sub_metering_2  \\\n992408   234.220001         29.200001             0.0            72.0   \n1183860  237.029999         33.200001             0.0            72.0   \n1533682  230.639999         30.000000             0.0            69.0   \n2020358  234.089996         27.200001             0.0            69.0   \n\n         Sub_metering_3  \n992408             17.0  \n1183860            17.0  \n1533682            17.0  \n2020358            17.0  ",
      "text/html": "<div>\n<style scoped>\n    .dataframe tbody tr th:only-of-type {\n        vertical-align: middle;\n    }\n\n    .dataframe tbody tr th {\n        vertical-align: top;\n    }\n\n    .dataframe thead th {\n        text-align: right;\n    }\n</style>\n<table border=\"1\" class=\"dataframe\">\n  <thead>\n    <tr style=\"text-align: right;\">\n      <th></th>\n      <th>Date</th>\n      <th>Time</th>\n      <th>Global_active_power</th>\n      <th>Global_reactive_power</th>\n      <th>Voltage</th>\n      <th>Global_intensity</th>\n      <th>Sub_metering_1</th>\n      <th>Sub_metering_2</th>\n      <th>Sub_metering_3</th>\n    </tr>\n  </thead>\n  <tbody>\n    <tr>\n      <th>992408</th>\n      <td>4/11/2008</td>\n      <td>21:32:00</td>\n      <td>6.844</td>\n      <td>0.252</td>\n      <td>234.220001</td>\n      <td>29.200001</td>\n      <td>0.0</td>\n      <td>72.0</td>\n      <td>17.0</td>\n    </tr>\n    <tr>\n      <th>1183860</th>\n      <td>17/3/2009</td>\n      <td>20:24:00</td>\n      <td>7.864</td>\n      <td>0.000</td>\n      <td>237.029999</td>\n      <td>33.200001</td>\n      <td>0.0</td>\n      <td>72.0</td>\n      <td>17.0</td>\n    </tr>\n    <tr>\n      <th>1533682</th>\n      <td>15/11/2009</td>\n      <td>18:46:00</td>\n      <td>6.926</td>\n      <td>0.370</td>\n      <td>230.639999</td>\n      <td>30.000000</td>\n      <td>0.0</td>\n      <td>69.0</td>\n      <td>17.0</td>\n    </tr>\n    <tr>\n      <th>2020358</th>\n      <td>19/10/2010</td>\n      <td>18:02:00</td>\n      <td>6.338</td>\n      <td>0.246</td>\n      <td>234.089996</td>\n      <td>27.200001</td>\n      <td>0.0</td>\n      <td>69.0</td>\n      <td>17.0</td>\n    </tr>\n  </tbody>\n</table>\n</div>"
     },
     "metadata": {},
     "execution_count": 15
    }
   ],
   "source": [
    "%%time\n",
    "from_middle_to_tail_step_4(n5_5)"
   ]
  },
  {
   "cell_type": "code",
   "execution_count": 16,
   "metadata": {},
   "outputs": [
    {
     "output_type": "execute_result",
     "data": {
      "text/plain": "Empty DataFrame\nColumns: [Date, Time, Global_active_power, Global_reactive_power, Voltage, Global_intensity, Sub_metering_1, Sub_metering_2, Sub_metering_3]\nIndex: []",
      "text/html": "<div>\n<style scoped>\n    .dataframe tbody tr th:only-of-type {\n        vertical-align: middle;\n    }\n\n    .dataframe tbody tr th {\n        vertical-align: top;\n    }\n\n    .dataframe thead th {\n        text-align: right;\n    }\n</style>\n<table border=\"1\" class=\"dataframe\">\n  <thead>\n    <tr style=\"text-align: right;\">\n      <th></th>\n      <th>Date</th>\n      <th>Time</th>\n      <th>Global_active_power</th>\n      <th>Global_reactive_power</th>\n      <th>Voltage</th>\n      <th>Global_intensity</th>\n      <th>Sub_metering_1</th>\n      <th>Sub_metering_2</th>\n      <th>Sub_metering_3</th>\n    </tr>\n  </thead>\n  <tbody>\n  </tbody>\n</table>\n</div>"
     },
     "metadata": {},
     "execution_count": 16
    }
   ],
   "source": [
    "n5_5.iloc[975:]"
   ]
  },
  {
   "cell_type": "code",
   "execution_count": null,
   "metadata": {},
   "outputs": [],
   "source": []
  }
 ],
 "metadata": {
  "language_info": {
   "codemirror_mode": {
    "name": "ipython",
    "version": 3
   },
   "file_extension": ".py",
   "mimetype": "text/x-python",
   "name": "python",
   "nbconvert_exporter": "python",
   "pygments_lexer": "ipython3",
   "version": "3.8.2-final"
  },
  "orig_nbformat": 2,
  "kernelspec": {
   "name": "python38264bitdslab2pyhton38condaec10670597054817b9a6f551d23c8534",
   "display_name": "Python 3.8.2 64-bit ('ds_lab2_pyhton3_8': conda)"
  }
 },
 "nbformat": 4,
 "nbformat_minor": 2
}