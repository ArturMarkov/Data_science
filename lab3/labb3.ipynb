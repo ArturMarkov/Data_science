{
 "cells": [
  {
   "cell_type": "code",
   "execution_count": 1,
   "metadata": {},
   "outputs": [],
   "source": [
    "import os\n",
    "#import request\n",
    "\n",
    "import numpy\n",
    "import pandas as pd"
   ]
  },
  {
   "cell_type": "code",
   "execution_count": 2,
   "metadata": {},
   "outputs": [
    {
     "output_type": "stream",
     "name": "stdout",
     "text": "Date      Time Global_active_power Global_reactive_power  Voltage  \\\n0  16/12/2006  17:24:00               4.216                 0.418  234.840   \n1  16/12/2006  17:25:00               5.360                 0.436  233.630   \n2  16/12/2006  17:26:00               5.374                 0.498  233.290   \n3  16/12/2006  17:27:00               5.388                 0.502  233.740   \n4  16/12/2006  17:28:00               3.666                 0.528  235.680   \n\n  Global_intensity Sub_metering_1 Sub_metering_2  Sub_metering_3  \n0           18.400          0.000          1.000            17.0  \n1           23.000          0.000          1.000            16.0  \n2           23.000          0.000          2.000            17.0  \n3           23.000          0.000          1.000            17.0  \n4           15.800          0.000          1.000            17.0  \n"
    }
   ],
   "source": [
    "data = pd.read_csv('data\\household_power_consumption.txt', sep=\";\", header=0)\n",
    "#data.columns = [\"a\", \"b\", \"c\", \"etc.\"]\n",
    "print(data.head())\n"
   ]
  },
  {
   "cell_type": "code",
   "execution_count": 4,
   "metadata": {},
   "outputs": [
    {
     "output_type": "stream",
     "name": "stdout",
     "text": "<class 'pandas.core.frame.DataFrame'>\nRangeIndex: 2075259 entries, 0 to 2075258\nData columns (total 9 columns):\n #   Column                 Dtype  \n---  ------                 -----  \n 0   Date                   object \n 1   Time                   object \n 2   Global_active_power    object \n 3   Global_reactive_power  object \n 4   Voltage                object \n 5   Global_intensity       object \n 6   Sub_metering_1         object \n 7   Sub_metering_2         object \n 8   Sub_metering_3         float64\ndtypes: float64(1), object(8)\nmemory usage: 142.5+ MB\n"
    }
   ],
   "source": [
    "data.info()"
   ]
  },
  {
   "cell_type": "code",
   "execution_count": null,
   "metadata": {},
   "outputs": [],
   "source": [
    "data"
   ]
  }
 ],
 "metadata": {
  "language_info": {
   "codemirror_mode": {
    "name": "ipython",
    "version": 3
   },
   "file_extension": ".py",
   "mimetype": "text/x-python",
   "name": "python",
   "nbconvert_exporter": "python",
   "pygments_lexer": "ipython3",
   "version": "3.8.2-final"
  },
  "orig_nbformat": 2,
  "kernelspec": {
   "name": "python38264bitdslab2pyhton38condaec10670597054817b9a6f551d23c8534",
   "display_name": "Python 3.8.2 64-bit ('ds_lab2_pyhton3_8': conda)"
  }
 },
 "nbformat": 4,
 "nbformat_minor": 2
}